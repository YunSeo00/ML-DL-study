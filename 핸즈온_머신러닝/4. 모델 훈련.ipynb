{
 "cells": [
  {
   "cell_type": "code",
   "execution_count": 1,
   "id": "a3aaefa5",
   "metadata": {},
   "outputs": [],
   "source": [
    "# Python ≥3.5 is required\n",
    "import sys\n",
    "assert sys.version_info >= (3, 5)\n",
    "\n",
    "# Scikit-Learn ≥0.20 is required\n",
    "import sklearn\n",
    "assert sklearn.__version__ >= \"0.20\"\n",
    "\n",
    "# Common imports\n",
    "import numpy as np\n",
    "import os\n",
    "\n",
    "# to make this notebook's output stable across runs\n",
    "np.random.seed(42)\n",
    "\n",
    "# To plot pretty figures\n",
    "%matplotlib inline\n",
    "import matplotlib as mpl\n",
    "import matplotlib.pyplot as plt\n",
    "mpl.rc('axes', labelsize=14)\n",
    "mpl.rc('xtick', labelsize=12)\n",
    "mpl.rc('ytick', labelsize=12)"
   ]
  },
  {
   "cell_type": "markdown",
   "id": "1f5fe092",
   "metadata": {},
   "source": [
    "### 4.1 Linear Regression"
   ]
  },
  {
   "cell_type": "markdown",
   "id": "878c6074",
   "metadata": {},
   "source": [
    "#### 4.1.1 정규방정식"
   ]
  },
  {
   "cell_type": "code",
   "execution_count": 2,
   "id": "7f93e3d9",
   "metadata": {},
   "outputs": [],
   "source": [
    "import numpy as np\n",
    "X = 2 * np.random.rand(100,1)\n",
    "y = 4 + 3 * X + np.random.randn(100,1)"
   ]
  },
  {
   "cell_type": "code",
   "execution_count": 3,
   "id": "e51c3c32",
   "metadata": {},
   "outputs": [
    {
     "data": {
      "image/png": "[encoded data removed]",
      "text/plain": [
       "<Figure size 432x288 with 1 Axes>"
      ]
     },
     "metadata": {
      "needs_background": "light"
     },
     "output_type": "display_data"
    }
   ],
   "source": [
    "plt.plot(X, y, \"b.\")\n",
    "plt.xlabel(\"$x_1$\", fontsize=18)\n",
    "plt.ylabel(\"$y$\", rotation=0, fontsize=18)\n",
    "plt.axis([0,2,0,15])\n",
    "plt.show()"
   ]
  },
  {
   "cell_type": "code",
   "execution_count": 4,
   "id": "aa3b3ad7",
   "metadata": {},
   "outputs": [],
   "source": [
    "X_b = np.c_[np.ones((100,1)),X] # 모든 샘플에 1을 추가\n",
    "theta_best = np.linalg.inv(X_b.T.dot(X_b)).dot(X_b.T).dot(y)"
   ]
  },
  {
   "cell_type": "code",
   "execution_count": 5,
   "id": "ffb9b64c",
   "metadata": {},
   "outputs": [
    {
     "data": {
      "text/plain": [
       "array([[4.21509616],\n",
       "       [2.77011339]])"
      ]
     },
     "execution_count": 5,
     "metadata": {},
     "output_type": "execute_result"
    }
   ],
   "source": [
    "theta_best\n",
    "\n",
    "# 실제값과 비슷하긴 하지만 잡음으로 인해 아예같지는 않다"
   ]
  },
  {
   "cell_type": "code",
   "execution_count": 6,
   "id": "555378e8",
   "metadata": {},
   "outputs": [
    {
     "data": {
      "text/plain": [
       "array([[4.21509616],\n",
       "       [9.75532293]])"
      ]
     },
     "execution_count": 6,
     "metadata": {},
     "output_type": "execute_result"
    }
   ],
   "source": [
    "# 예측\n",
    "X_new = np.array([[0], [2]]) # x가 0과 2인 점\n",
    "X_new_b = np.c_[np.ones((2,1)), X_new] # 1추가\n",
    "y_predict = X_new_b.dot(theta_best)\n",
    "y_predict"
   ]
  },
  {
   "cell_type": "code",
   "execution_count": 7,
   "id": "597a4784",
   "metadata": {},
   "outputs": [
    {
     "data": {
      "image/png": "[encoded data removed]",
      "text/plain": [
       "<Figure size 432x288 with 1 Axes>"
      ]
     },
     "metadata": {
      "needs_background": "light"
     },
     "output_type": "display_data"
    }
   ],
   "source": [
    "# 그래프에 표현\n",
    "plt.plot(X_new, y_predict, \"r-\")\n",
    "plt.plot(X, y, \"b.\")\n",
    "plt.axis([0,2,0,15])\n",
    "plt.show()"
   ]
  },
  {
   "cell_type": "code",
   "execution_count": 8,
   "id": "5c8cee7f",
   "metadata": {},
   "outputs": [
    {
     "data": {
      "text/plain": [
       "(array([4.21509616]), array([[2.77011339]]))"
      ]
     },
     "execution_count": 8,
     "metadata": {},
     "output_type": "execute_result"
    }
   ],
   "source": [
    "# 사이킷런에서의 선형 회귀 수행\n",
    "from sklearn.linear_model import LinearRegression\n",
    "\n",
    "lin_reg = LinearRegression()\n",
    "lin_reg.fit(X, y)\n",
    "lin_reg.intercept_, lin_reg.coef_\n",
    "\n",
    "# 위와 동일한 결과"
   ]
  },
  {
   "cell_type": "code",
   "execution_count": 9,
   "id": "d935d75d",
   "metadata": {},
   "outputs": [
    {
     "data": {
      "text/plain": [
       "array([[4.21509616],\n",
       "       [9.75532293]])"
      ]
     },
     "execution_count": 9,
     "metadata": {},
     "output_type": "execute_result"
    }
   ],
   "source": [
    "lin_reg.predict(X_new)"
   ]
  },
  {
   "cell_type": "code",
   "execution_count": 10,
   "id": "6a9501c8",
   "metadata": {},
   "outputs": [],
   "source": [
    "# 교재 163페이지\n",
    "# LinearRegression 클래스는 scipy.linalg.lstq() 함수를 기반으로 함\n",
    "# 이 함수는 theta hat = X+ y를 계산\n",
    "# X+는 X의 유사역행렬 = 무어-펜로즈 역행렬\n",
    "# np.linalg.pinv() 함수로 유사역행렬을 직접 구할 수도 있음\n",
    "# 유사역행렬은 특이값 분해를 이용하여 계산되고, 정규방정식을 사용할 수 없을 때 항상 사용 가능"
   ]
  },
  {
   "cell_type": "code",
   "execution_count": 11,
   "id": "04bb1880",
   "metadata": {},
   "outputs": [
    {
     "data": {
      "text/plain": [
       "array([[4.21509616],\n",
       "       [2.77011339]])"
      ]
     },
     "execution_count": 11,
     "metadata": {},
     "output_type": "execute_result"
    }
   ],
   "source": [
    "theta_best_svd, residuals, rank, s = np.linalg.lstsq(X_b, y, rcond=1e-6)\n",
    "theta_best_svd"
   ]
  },
  {
   "cell_type": "code",
   "execution_count": 12,
   "id": "aba1db9d",
   "metadata": {},
   "outputs": [
    {
     "data": {
      "text/plain": [
       "array([80.6584564])"
      ]
     },
     "execution_count": 12,
     "metadata": {},
     "output_type": "execute_result"
    }
   ],
   "source": [
    "residuals"
   ]
  },
  {
   "cell_type": "code",
   "execution_count": 13,
   "id": "4f7eeb72",
   "metadata": {},
   "outputs": [
    {
     "data": {
      "text/plain": [
       "2"
      ]
     },
     "execution_count": 13,
     "metadata": {},
     "output_type": "execute_result"
    }
   ],
   "source": [
    "rank"
   ]
  },
  {
   "cell_type": "code",
   "execution_count": 14,
   "id": "fe63fe8f",
   "metadata": {},
   "outputs": [
    {
     "data": {
      "text/plain": [
       "array([14.37020392,  4.11961067])"
      ]
     },
     "execution_count": 14,
     "metadata": {},
     "output_type": "execute_result"
    }
   ],
   "source": [
    "s"
   ]
  },
  {
   "cell_type": "code",
   "execution_count": 15,
   "id": "2545223e",
   "metadata": {},
   "outputs": [
    {
     "data": {
      "text/plain": [
       "array([[4.21509616],\n",
       "       [2.77011339]])"
      ]
     },
     "execution_count": 15,
     "metadata": {},
     "output_type": "execute_result"
    }
   ],
   "source": [
    "np.linalg.pinv(X_b).dot(y)"
   ]
  },
  {
   "cell_type": "markdown",
   "id": "94b0e6dd",
   "metadata": {},
   "source": [
    "#### 4.1.2 계산복잡도"
   ]
  },
  {
   "cell_type": "markdown",
   "id": "7d53afc0",
   "metadata": {},
   "source": [
    "### 4.2 경사하강법"
   ]
  },
  {
   "cell_type": "markdown",
   "id": "00d1bae6",
   "metadata": {},
   "source": [
    "#### 4.2.1 배치경사하강법"
   ]
  },
  {
   "cell_type": "code",
   "execution_count": 16,
   "id": "241efd26",
   "metadata": {},
   "outputs": [],
   "source": [
    "eta = 0.1 # learning rate\n",
    "n_iterations = 1000\n",
    "m = 100\n",
    "\n",
    "theta = np.random.randn(2,1) # random initialization\n",
    "\n",
    "for iteration in range(n_iterations):\n",
    "    gradients = 2/m * X_b.T.dot(X_b.dot(theta) - y)\n",
    "    theta = theta - eta * gradients"
   ]
  },
  {
   "cell_type": "code",
   "execution_count": 17,
   "id": "56fe960c",
   "metadata": {},
   "outputs": [
    {
     "data": {
      "text/plain": [
       "array([[4.21509616],\n",
       "       [2.77011339]])"
      ]
     },
     "execution_count": 17,
     "metadata": {},
     "output_type": "execute_result"
    }
   ],
   "source": [
    "theta # 같다"
   ]
  },
  {
   "cell_type": "code",
   "execution_count": 18,
   "id": "d0d8b0e5",
   "metadata": {},
   "outputs": [
    {
     "data": {
      "text/plain": [
       "array([[4.21509616],\n",
       "       [9.75532293]])"
      ]
     },
     "execution_count": 18,
     "metadata": {},
     "output_type": "execute_result"
    }
   ],
   "source": [
    "X_new_b.dot(theta)"
   ]
  },
  {
   "cell_type": "code",
   "execution_count": 19,
   "id": "357134b9",
   "metadata": {},
   "outputs": [],
   "source": [
    "theta_path_bgd = []\n",
    "\n",
    "def plot_gradient_descent(theta, eta, theta_path = None):\n",
    "    m = len(X_b)\n",
    "    plt.plot(X, y, \"b.\")\n",
    "    n_iterations = 1000\n",
    "    for iteration in range(n_iterations):\n",
    "        if iteration < 10:   # 학습이 10번 이내면\n",
    "            y_predict = X_new_b.dot(theta)\n",
    "            style = \"b-\" if iteration > 0 else \"r--\"  # ??\n",
    "            plt.plot(X_new, y_predict, style)\n",
    "        gradients = 2/m * X_b.T.dot(X_b.dot(theta) - y)\n",
    "        theta = theta - eta * gradients\n",
    "        if theta_path is not None:\n",
    "            theta_path.append(theta)\n",
    "        plt.xlabel(\"$x_1$\", fontsize = 18)\n",
    "        plt.axis([0,2,0,15])\n",
    "        plt.title(r\"$\\eta = {}$\".format(eta), fontsize=16)"
   ]
  },
  {
   "cell_type": "code",
   "execution_count": 20,
   "id": "5785b337",
   "metadata": {},
   "outputs": [
    {
     "data": {
      "image/png": "[encoded data removed]",
      "text/plain": [
       "<Figure size 720x288 with 3 Axes>"
      ]
     },
     "metadata": {
      "needs_background": "light"
     },
     "output_type": "display_data"
    }
   ],
   "source": [
    "np.random.seed(42)\n",
    "theta = np.random.randn(2,1) # random initialization\n",
    "\n",
    "plt.figure(figsize = (10,4))\n",
    "plt.subplot(131); plot_gradient_descent(theta, eta=0.02)\n",
    "plt.ylabel(\"$y$\", rotation=0, fontsize=18)\n",
    "plt.subplot(132); plot_gradient_descent(theta, eta=0.1, theta_path = theta_path_bgd)\n",
    "plt.subplot(133); plot_gradient_descent(theta, eta=0.5)\n",
    "\n",
    "plt.show()"
   ]
  },
  {
   "cell_type": "code",
   "execution_count": 21,
   "id": "7358a6b8",
   "metadata": {},
   "outputs": [
    {
     "data": {
      "text/plain": [
       "[array([[1.78737583],\n",
       "        [1.27927812]]),\n",
       " array([[2.55330471],\n",
       "        [2.10402371]]),\n",
       " array([[3.01093601],\n",
       "        [2.58105009]]),\n",
       " array([[3.28732561],\n",
       "        [2.85420804]]),\n",
       " array([[3.45706384],\n",
       "        [3.00792898]]),\n",
       " array([[3.56394378],\n",
       "        [3.0917658 ]]),\n",
       " array([[3.63368035],\n",
       "        [3.13479813]]),\n",
       " array([[3.68137641],\n",
       "        [3.15408821]]),\n",
       " array([[3.71590533],\n",
       "        [3.15964433]]),\n",
       " array([[3.74248352],\n",
       "        [3.15733444]]),\n",
       " array([[3.76418049],\n",
       "        [3.15059636]]),\n",
       " array([[3.78280532],\n",
       "        [3.14144163]]),\n",
       " array([[3.79942693],\n",
       "        [3.13104483]]),\n",
       " array([[3.81467957],\n",
       "        [3.12008943]]),\n",
       " array([[3.82894209],\n",
       "        [3.10897085]]),\n",
       " array([[3.8424432 ],\n",
       "        [3.09791559]]),\n",
       " array([[3.85532328],\n",
       "        [3.08705122]]),\n",
       " array([[3.86767063],\n",
       "        [3.0764474 ]]),\n",
       " array([[3.87954279],\n",
       "        [3.06613997]]),\n",
       " array([[3.89097907],\n",
       "        [3.05614512]]),\n",
       " array([[3.90200784],\n",
       "        [3.04646763]]),\n",
       " array([[3.91265093],\n",
       "        [3.03710577]]),\n",
       " array([[3.9229261 ],\n",
       "        [3.02805413]]),\n",
       " array([[3.93284861],\n",
       "        [3.01930529]]),\n",
       " array([[3.94243202],\n",
       "        [3.01085082]]),\n",
       " array([[3.95168881],\n",
       "        [3.00268179]]),\n",
       " array([[3.9606306 ],\n",
       "        [2.99478913]]),\n",
       " array([[3.96926843],\n",
       "        [2.98716385]]),\n",
       " array([[3.9776128 ],\n",
       "        [2.97979708]]),\n",
       " array([[3.98567378],\n",
       "        [2.97268017]]),\n",
       " array([[3.99346105],\n",
       "        [2.96580472]]),\n",
       " array([[4.00098395],\n",
       "        [2.95916258]]),\n",
       " array([[4.00825148],\n",
       "        [2.95274585]]),\n",
       " array([[4.01527231],\n",
       "        [2.9465469 ]]),\n",
       " array([[4.02205482],\n",
       "        [2.94055834]]),\n",
       " array([[4.02860711],\n",
       "        [2.93477305]]),\n",
       " array([[4.034937  ],\n",
       "        [2.92918411]]),\n",
       " array([[4.04105204],\n",
       "        [2.92378488]]),\n",
       " array([[4.04695951],\n",
       "        [2.9185689 ]]),\n",
       " array([[4.05266647],\n",
       "        [2.91352997]]),\n",
       " array([[4.05817972],\n",
       "        [2.90866207]]),\n",
       " array([[4.06350584],\n",
       "        [2.9039594 ]]),\n",
       " array([[4.06865118],\n",
       "        [2.89941634]]),\n",
       " array([[4.07362187],\n",
       "        [2.89502749]]),\n",
       " array([[4.07842384],\n",
       "        [2.89078761]]),\n",
       " array([[4.08306283],\n",
       "        [2.88669164]]),\n",
       " array([[4.08754435],\n",
       "        [2.8827347 ]]),\n",
       " array([[4.09187377],\n",
       "        [2.87891206]]),\n",
       " array([[4.09605623],\n",
       "        [2.87521917]]),\n",
       " array([[4.10009673],\n",
       "        [2.87165163]]),\n",
       " array([[4.10400008],\n",
       "        [2.86820518]]),\n",
       " array([[4.10777095],\n",
       "        [2.86487571]]),\n",
       " array([[4.11141382],\n",
       "        [2.86165925]]),\n",
       " array([[4.11493305],\n",
       "        [2.85855197]]),\n",
       " array([[4.11833282],\n",
       "        [2.85555015]]),\n",
       " array([[4.1216172 ],\n",
       "        [2.85265023]]),\n",
       " array([[4.1247901 ],\n",
       "        [2.84984873]]),\n",
       " array([[4.1278553 ],\n",
       "        [2.84714232]]),\n",
       " array([[4.13081646],\n",
       "        [2.84452777]]),\n",
       " array([[4.13367712],\n",
       "        [2.84200197]]),\n",
       " array([[4.13644067],\n",
       "        [2.8395619 ]]),\n",
       " array([[4.13911043],\n",
       "        [2.83720465]]),\n",
       " array([[4.14168957],\n",
       "        [2.83492742]]),\n",
       " array([[4.14418116],\n",
       "        [2.83272747]]),\n",
       " array([[4.14658818],\n",
       "        [2.8306022 ]]),\n",
       " array([[4.14891351],\n",
       "        [2.82854907]]),\n",
       " array([[4.15115991],\n",
       "        [2.82656562]]),\n",
       " array([[4.15333005],\n",
       "        [2.8246495 ]]),\n",
       " array([[4.15542654],\n",
       "        [2.82279841]]),\n",
       " array([[4.15745187],\n",
       "        [2.82101016]]),\n",
       " array([[4.15940846],\n",
       "        [2.8192826 ]]),\n",
       " array([[4.16129863],\n",
       "        [2.81761368]]),\n",
       " array([[4.16312465],\n",
       "        [2.81600141]]),\n",
       " array([[4.16488868],\n",
       "        [2.81444386]]),\n",
       " array([[4.16659284],\n",
       "        [2.81293918]]),\n",
       " array([[4.16823916],\n",
       "        [2.81148557]]),\n",
       " array([[4.1698296],\n",
       "        [2.8100813]]),\n",
       " array([[4.17136606],\n",
       "        [2.80872469]]),\n",
       " array([[4.17285036],\n",
       "        [2.80741413]]),\n",
       " array([[4.17428428],\n",
       "        [2.80614805]]),\n",
       " array([[4.17566953],\n",
       "        [2.80492495]]),\n",
       " array([[4.17700777],\n",
       "        [2.80374336]]),\n",
       " array([[4.17830058],\n",
       "        [2.80260188]]),\n",
       " array([[4.17954951],\n",
       "        [2.80149915]]),\n",
       " array([[4.18075605],\n",
       "        [2.80043384]]),\n",
       " array([[4.18192163],\n",
       "        [2.79940469]]),\n",
       " array([[4.18304765],\n",
       "        [2.79841047]]),\n",
       " array([[4.18413546],\n",
       "        [2.79745   ]]),\n",
       " array([[4.18518634],\n",
       "        [2.79652213]]),\n",
       " array([[4.18620155],\n",
       "        [2.79562576]]),\n",
       " array([[4.1871823 ],\n",
       "        [2.79475981]]),\n",
       " array([[4.18812976],\n",
       "        [2.79392325]]),\n",
       " array([[4.18904507],\n",
       "        [2.79311508]]),\n",
       " array([[4.1899293 ],\n",
       "        [2.79233435]]),\n",
       " array([[4.19078353],\n",
       "        [2.79158012]]),\n",
       " array([[4.19160875],\n",
       "        [2.79085149]]),\n",
       " array([[4.19240597],\n",
       "        [2.79014759]]),\n",
       " array([[4.19317613],\n",
       "        [2.78946758]]),\n",
       " array([[4.19392015],\n",
       "        [2.78881065]]),\n",
       " array([[4.19463891],\n",
       "        [2.78817602]]),\n",
       " array([[4.19533328],\n",
       "        [2.78756293]]),\n",
       " array([[4.19600408],\n",
       "        [2.78697065]]),\n",
       " array([[4.19665211],\n",
       "        [2.78639848]]),\n",
       " array([[4.19727815],\n",
       "        [2.78584572]]),\n",
       " array([[4.19788293],\n",
       "        [2.78531173]]),\n",
       " array([[4.19846719],\n",
       "        [2.78479586]]),\n",
       " array([[4.19903162],\n",
       "        [2.7842975 ]]),\n",
       " array([[4.19957689],\n",
       "        [2.78381606]]),\n",
       " array([[4.20010365],\n",
       "        [2.78335096]]),\n",
       " array([[4.20061253],\n",
       "        [2.78290164]]),\n",
       " array([[4.20110414],\n",
       "        [2.78246758]]),\n",
       " array([[4.20157906],\n",
       "        [2.78204825]]),\n",
       " array([[4.20203786],\n",
       "        [2.78164315]]),\n",
       " array([[4.20248109],\n",
       "        [2.7812518 ]]),\n",
       " array([[4.20290928],\n",
       "        [2.78087374]]),\n",
       " array([[4.20332293],\n",
       "        [2.78050851]]),\n",
       " array([[4.20372254],\n",
       "        [2.78015567]]),\n",
       " array([[4.20410859],\n",
       "        [2.77981481]]),\n",
       " array([[4.20448153],\n",
       "        [2.77948552]]),\n",
       " array([[4.20484182],\n",
       "        [2.77916741]]),\n",
       " array([[4.20518987],\n",
       "        [2.7788601 ]]),\n",
       " array([[4.20552612],\n",
       "        [2.77856321]]),\n",
       " array([[4.20585095],\n",
       "        [2.7782764 ]]),\n",
       " array([[4.20616475],\n",
       "        [2.77799933]]),\n",
       " array([[4.20646791],\n",
       "        [2.77773166]]),\n",
       " array([[4.20676077],\n",
       "        [2.77747308]]),\n",
       " array([[4.20704369],\n",
       "        [2.77722328]]),\n",
       " array([[4.20731701],\n",
       "        [2.77698195]]),\n",
       " array([[4.20758105],\n",
       "        [2.77674881]]),\n",
       " array([[4.20783613],\n",
       "        [2.77652359]]),\n",
       " array([[4.20808256],\n",
       "        [2.77630601]]),\n",
       " array([[4.20832062],\n",
       "        [2.77609582]]),\n",
       " array([[4.20855059],\n",
       "        [2.77589276]]),\n",
       " array([[4.20877277],\n",
       "        [2.7756966 ]]),\n",
       " array([[4.2089874 ],\n",
       "        [2.77550709]]),\n",
       " array([[4.20919474],\n",
       "        [2.77532402]]),\n",
       " array([[4.20939505],\n",
       "        [2.77514715]]),\n",
       " array([[4.20958856],\n",
       "        [2.7749763 ]]),\n",
       " array([[4.2097755 ],\n",
       "        [2.77481124]]),\n",
       " array([[4.2099561 ],\n",
       "        [2.77465178]]),\n",
       " array([[4.21013056],\n",
       "        [2.77449774]]),\n",
       " array([[4.21029911],\n",
       "        [2.77434892]]),\n",
       " array([[4.21046193],\n",
       "        [2.77420516]]),\n",
       " array([[4.21061923],\n",
       "        [2.77406627]]),\n",
       " array([[4.21077118],\n",
       "        [2.7739321 ]]),\n",
       " array([[4.21091798],\n",
       "        [2.77380249]]),\n",
       " array([[4.2110598 ],\n",
       "        [2.77367727]]),\n",
       " array([[4.21119681],\n",
       "        [2.7735563 ]]),\n",
       " array([[4.21132916],\n",
       "        [2.77343944]]),\n",
       " array([[4.21145702],\n",
       "        [2.77332655]]),\n",
       " array([[4.21158054],\n",
       "        [2.77321749]]),\n",
       " array([[4.21169987],\n",
       "        [2.77311212]]),\n",
       " array([[4.21181515],\n",
       "        [2.77301034]]),\n",
       " array([[4.21192651],\n",
       "        [2.77291201]]),\n",
       " array([[4.2120341 ],\n",
       "        [2.77281702]]),\n",
       " array([[4.21213803],\n",
       "        [2.77272525]]),\n",
       " array([[4.21223844],\n",
       "        [2.7726366 ]]),\n",
       " array([[4.21233543],\n",
       "        [2.77255095]]),\n",
       " array([[4.21242914],\n",
       "        [2.77246822]]),\n",
       " array([[4.21251967],\n",
       "        [2.77238829]]),\n",
       " array([[4.21260712],\n",
       "        [2.77231107]]),\n",
       " array([[4.2126916 ],\n",
       "        [2.77223648]]),\n",
       " array([[4.21277322],\n",
       "        [2.77216442]]),\n",
       " array([[4.21285206],\n",
       "        [2.7720948 ]]),\n",
       " array([[4.21292823],\n",
       "        [2.77202755]]),\n",
       " array([[4.21300182],\n",
       "        [2.77196257]]),\n",
       " array([[4.21307291],\n",
       "        [2.77189981]]),\n",
       " array([[4.21314158],\n",
       "        [2.77183917]]),\n",
       " array([[4.21320792],\n",
       "        [2.7717806 ]]),\n",
       " array([[4.21327201],\n",
       "        [2.77172401]]),\n",
       " array([[4.21333393],\n",
       "        [2.77166934]]),\n",
       " array([[4.21339374],\n",
       "        [2.77161653]]),\n",
       " array([[4.21345153],\n",
       "        [2.77156551]]),\n",
       " array([[4.21350735],\n",
       "        [2.77151622]]),\n",
       " array([[4.21356128],\n",
       "        [2.7714686 ]]),\n",
       " array([[4.21361338],\n",
       "        [2.7714226 ]]),\n",
       " array([[4.2136637 ],\n",
       "        [2.77137816]]),\n",
       " array([[4.21371233],\n",
       "        [2.77133523]]),\n",
       " array([[4.2137593 ],\n",
       "        [2.77129376]]),\n",
       " array([[4.21380467],\n",
       "        [2.7712537 ]]),\n",
       " array([[4.21384851],\n",
       "        [2.77121499]]),\n",
       " array([[4.21389086],\n",
       "        [2.7711776 ]]),\n",
       " array([[4.21393177],\n",
       "        [2.77114148]]),\n",
       " array([[4.21397129],\n",
       "        [2.77110658]]),\n",
       " array([[4.21400947],\n",
       "        [2.77107287]]),\n",
       " array([[4.21404636],\n",
       "        [2.7710403 ]]),\n",
       " array([[4.21408199],\n",
       "        [2.77100884]]),\n",
       " array([[4.21411641],\n",
       "        [2.77097845]]),\n",
       " array([[4.21414967],\n",
       "        [2.77094909]]),\n",
       " array([[4.21418179],\n",
       "        [2.77092072]]),\n",
       " array([[4.21421283],\n",
       "        [2.77089332]]),\n",
       " array([[4.21424281],\n",
       "        [2.77086685]]),\n",
       " array([[4.21427178],\n",
       "        [2.77084127]]),\n",
       " array([[4.21429976],\n",
       "        [2.77081657]]),\n",
       " array([[4.21432679],\n",
       "        [2.7707927 ]]),\n",
       " array([[4.2143529 ],\n",
       "        [2.77076964]]),\n",
       " array([[4.21437813],\n",
       "        [2.77074737]]),\n",
       " array([[4.2144025 ],\n",
       "        [2.77072585]]),\n",
       " array([[4.21442605],\n",
       "        [2.77070506]]),\n",
       " array([[4.21444879],\n",
       "        [2.77068498]]),\n",
       " array([[4.21447076],\n",
       "        [2.77066557]]),\n",
       " array([[4.21449199],\n",
       "        [2.77064683]]),\n",
       " array([[4.2145125 ],\n",
       "        [2.77062873]]),\n",
       " array([[4.21453231],\n",
       "        [2.77061123]]),\n",
       " array([[4.21455145],\n",
       "        [2.77059434]]),\n",
       " array([[4.21456994],\n",
       "        [2.77057801]]),\n",
       " array([[4.2145878 ],\n",
       "        [2.77056224]]),\n",
       " array([[4.21460505],\n",
       "        [2.77054701]]),\n",
       " array([[4.21462172],\n",
       "        [2.77053229]]),\n",
       " array([[4.21463783],\n",
       "        [2.77051807]]),\n",
       " array([[4.21465338],\n",
       "        [2.77050433]]),\n",
       " array([[4.21466841],\n",
       "        [2.77049106]]),\n",
       " array([[4.21468293],\n",
       "        [2.77047824]]),\n",
       " array([[4.21469696],\n",
       "        [2.77046586]]),\n",
       " array([[4.21471051],\n",
       "        [2.7704539 ]]),\n",
       " array([[4.2147236 ],\n",
       "        [2.77044234]]),\n",
       " array([[4.21473624],\n",
       "        [2.77043117]]),\n",
       " array([[4.21474846],\n",
       "        [2.77042039]]),\n",
       " array([[4.21476026],\n",
       "        [2.77040997]]),\n",
       " array([[4.21477166],\n",
       "        [2.7703999 ]]),\n",
       " array([[4.21478267],\n",
       "        [2.77039017]]),\n",
       " array([[4.21479332],\n",
       "        [2.77038078]]),\n",
       " array([[4.21480359],\n",
       "        [2.7703717 ]]),\n",
       " array([[4.21481352],\n",
       "        [2.77036294]]),\n",
       " array([[4.21482312],\n",
       "        [2.77035447]]),\n",
       " array([[4.21483239],\n",
       "        [2.77034628]]),\n",
       " array([[4.21484134],\n",
       "        [2.77033838]]),\n",
       " array([[4.21484999],\n",
       "        [2.77033074]]),\n",
       " array([[4.21485834],\n",
       "        [2.77032336]]),\n",
       " array([[4.21486642],\n",
       "        [2.77031624]]),\n",
       " array([[4.21487421],\n",
       "        [2.77030935]]),\n",
       " array([[4.21488175],\n",
       "        [2.7703027 ]]),\n",
       " array([[4.21488902],\n",
       "        [2.77029627]]),\n",
       " array([[4.21489605],\n",
       "        [2.77029007]]),\n",
       " array([[4.21490285],\n",
       "        [2.77028407]]),\n",
       " array([[4.21490941],\n",
       "        [2.77027828]]),\n",
       " array([[4.21491575],\n",
       "        [2.77027268]]),\n",
       " array([[4.21492187],\n",
       "        [2.77026727]]),\n",
       " array([[4.21492779],\n",
       "        [2.77026205]]),\n",
       " array([[4.2149335],\n",
       "        [2.770257 ]]),\n",
       " array([[4.21493902],\n",
       "        [2.77025213]]),\n",
       " array([[4.21494436],\n",
       "        [2.77024742]]),\n",
       " array([[4.21494951],\n",
       "        [2.77024287]]),\n",
       " array([[4.21495449],\n",
       "        [2.77023847]]),\n",
       " array([[4.21495929],\n",
       "        [2.77023423]]),\n",
       " array([[4.21496394],\n",
       "        [2.77023013]]),\n",
       " array([[4.21496843],\n",
       "        [2.77022616]]),\n",
       " array([[4.21497276],\n",
       "        [2.77022234]]),\n",
       " array([[4.21497695],\n",
       "        [2.77021864]]),\n",
       " array([[4.214981  ],\n",
       "        [2.77021507]]),\n",
       " array([[4.21498491],\n",
       "        [2.77021162]]),\n",
       " array([[4.21498868],\n",
       "        [2.77020828]]),\n",
       " array([[4.21499233],\n",
       "        [2.77020506]]),\n",
       " array([[4.21499585],\n",
       "        [2.77020195]]),\n",
       " array([[4.21499926],\n",
       "        [2.77019894]]),\n",
       " array([[4.21500255],\n",
       "        [2.77019604]]),\n",
       " array([[4.21500573],\n",
       "        [2.77019323]]),\n",
       " array([[4.21500879],\n",
       "        [2.77019052]]),\n",
       " array([[4.21501176],\n",
       "        [2.7701879 ]]),\n",
       " array([[4.21501462],\n",
       "        [2.77018538]]),\n",
       " array([[4.21501739],\n",
       "        [2.77018293]]),\n",
       " array([[4.21502007],\n",
       "        [2.77018057]]),\n",
       " array([[4.21502265],\n",
       "        [2.77017829]]),\n",
       " array([[4.21502514],\n",
       "        [2.77017609]]),\n",
       " array([[4.21502755],\n",
       "        [2.77017396]]),\n",
       " array([[4.21502988],\n",
       "        [2.7701719 ]]),\n",
       " array([[4.21503213],\n",
       "        [2.77016992]]),\n",
       " array([[4.21503431],\n",
       "        [2.770168  ]]),\n",
       " array([[4.2150364 ],\n",
       "        [2.77016614]]),\n",
       " array([[4.21503843],\n",
       "        [2.77016435]]),\n",
       " array([[4.21504039],\n",
       "        [2.77016262]]),\n",
       " array([[4.21504228],\n",
       "        [2.77016095]]),\n",
       " array([[4.21504411],\n",
       "        [2.77015934]]),\n",
       " array([[4.21504588],\n",
       "        [2.77015778]]),\n",
       " array([[4.21504759],\n",
       "        [2.77015627]]),\n",
       " array([[4.21504924],\n",
       "        [2.77015482]]),\n",
       " array([[4.21505083],\n",
       "        [2.77015341]]),\n",
       " array([[4.21505237],\n",
       "        [2.77015205]]),\n",
       " array([[4.21505385],\n",
       "        [2.77015074]]),\n",
       " array([[4.21505529],\n",
       "        [2.77014947]]),\n",
       " array([[4.21505668],\n",
       "        [2.77014825]]),\n",
       " array([[4.21505802],\n",
       "        [2.77014706]]),\n",
       " array([[4.21505931],\n",
       "        [2.77014592]]),\n",
       " array([[4.21506056],\n",
       "        [2.77014482]]),\n",
       " array([[4.21506177],\n",
       "        [2.77014375]]),\n",
       " array([[4.21506294],\n",
       "        [2.77014272]]),\n",
       " array([[4.21506406],\n",
       "        [2.77014172]]),\n",
       " array([[4.21506515],\n",
       "        [2.77014076]]),\n",
       " array([[4.21506621],\n",
       "        [2.77013983]]),\n",
       " array([[4.21506722],\n",
       "        [2.77013893]]),\n",
       " array([[4.2150682 ],\n",
       "        [2.77013807]]),\n",
       " array([[4.21506915],\n",
       "        [2.77013723]]),\n",
       " array([[4.21507007],\n",
       "        [2.77013642]]),\n",
       " array([[4.21507096],\n",
       "        [2.77013564]]),\n",
       " array([[4.21507181],\n",
       "        [2.77013488]]),\n",
       " array([[4.21507264],\n",
       "        [2.77013415]]),\n",
       " array([[4.21507344],\n",
       "        [2.77013345]]),\n",
       " array([[4.21507421],\n",
       "        [2.77013277]]),\n",
       " array([[4.21507495],\n",
       "        [2.77013211]]),\n",
       " array([[4.21507567],\n",
       "        [2.77013147]]),\n",
       " array([[4.21507637],\n",
       "        [2.77013086]]),\n",
       " array([[4.21507704],\n",
       "        [2.77013027]]),\n",
       " array([[4.21507769],\n",
       "        [2.77012969]]),\n",
       " array([[4.21507831],\n",
       "        [2.77012914]]),\n",
       " array([[4.21507892],\n",
       "        [2.77012861]]),\n",
       " array([[4.21507951],\n",
       "        [2.77012809]]),\n",
       " array([[4.21508007],\n",
       "        [2.77012759]]),\n",
       " array([[4.21508062],\n",
       "        [2.77012711]]),\n",
       " array([[4.21508114],\n",
       "        [2.77012664]]),\n",
       " array([[4.21508165],\n",
       "        [2.77012619]]),\n",
       " array([[4.21508215],\n",
       "        [2.77012576]]),\n",
       " array([[4.21508262],\n",
       "        [2.77012534]]),\n",
       " array([[4.21508308],\n",
       "        [2.77012493]]),\n",
       " array([[4.21508352],\n",
       "        [2.77012454]]),\n",
       " array([[4.21508395],\n",
       "        [2.77012416]]),\n",
       " array([[4.21508437],\n",
       "        [2.7701238 ]]),\n",
       " array([[4.21508477],\n",
       "        [2.77012344]]),\n",
       " array([[4.21508515],\n",
       "        [2.7701231 ]]),\n",
       " array([[4.21508553],\n",
       "        [2.77012277]]),\n",
       " array([[4.21508589],\n",
       "        [2.77012245]]),\n",
       " array([[4.21508624],\n",
       "        [2.77012215]]),\n",
       " array([[4.21508657],\n",
       "        [2.77012185]]),\n",
       " array([[4.2150869 ],\n",
       "        [2.77012156]]),\n",
       " array([[4.21508721],\n",
       "        [2.77012128]]),\n",
       " array([[4.21508752],\n",
       "        [2.77012102]]),\n",
       " array([[4.21508781],\n",
       "        [2.77012076]]),\n",
       " array([[4.21508809],\n",
       "        [2.77012051]]),\n",
       " array([[4.21508837],\n",
       "        [2.77012026]]),\n",
       " array([[4.21508863],\n",
       "        [2.77012003]]),\n",
       " array([[4.21508889],\n",
       "        [2.77011981]]),\n",
       " array([[4.21508913],\n",
       "        [2.77011959]]),\n",
       " array([[4.21508937],\n",
       "        [2.77011938]]),\n",
       " array([[4.2150896 ],\n",
       "        [2.77011917]]),\n",
       " array([[4.21508983],\n",
       "        [2.77011898]]),\n",
       " array([[4.21509004],\n",
       "        [2.77011879]]),\n",
       " array([[4.21509025],\n",
       "        [2.7701186 ]]),\n",
       " array([[4.21509045],\n",
       "        [2.77011843]]),\n",
       " array([[4.21509064],\n",
       "        [2.77011826]]),\n",
       " array([[4.21509083],\n",
       "        [2.77011809]]),\n",
       " array([[4.21509101],\n",
       "        [2.77011793]]),\n",
       " array([[4.21509119],\n",
       "        [2.77011778]]),\n",
       " array([[4.21509135],\n",
       "        [2.77011763]]),\n",
       " array([[4.21509152],\n",
       "        [2.77011748]]),\n",
       " array([[4.21509167],\n",
       "        [2.77011734]]),\n",
       " array([[4.21509183],\n",
       "        [2.77011721]]),\n",
       " array([[4.21509197],\n",
       "        [2.77011708]]),\n",
       " array([[4.21509212],\n",
       "        [2.77011696]]),\n",
       " array([[4.21509225],\n",
       "        [2.77011683]]),\n",
       " array([[4.21509239],\n",
       "        [2.77011672]]),\n",
       " array([[4.21509251],\n",
       "        [2.7701166 ]]),\n",
       " array([[4.21509264],\n",
       "        [2.77011649]]),\n",
       " array([[4.21509276],\n",
       "        [2.77011639]]),\n",
       " array([[4.21509287],\n",
       "        [2.77011629]]),\n",
       " array([[4.21509298],\n",
       "        [2.77011619]]),\n",
       " array([[4.21509309],\n",
       "        [2.77011609]]),\n",
       " array([[4.2150932],\n",
       "        [2.770116 ]]),\n",
       " array([[4.2150933 ],\n",
       "        [2.77011591]]),\n",
       " array([[4.21509339],\n",
       "        [2.77011583]]),\n",
       " array([[4.21509349],\n",
       "        [2.77011574]]),\n",
       " array([[4.21509358],\n",
       "        [2.77011566]]),\n",
       " array([[4.21509367],\n",
       "        [2.77011559]]),\n",
       " array([[4.21509375],\n",
       "        [2.77011551]]),\n",
       " array([[4.21509383],\n",
       "        [2.77011544]]),\n",
       " array([[4.21509391],\n",
       "        [2.77011537]]),\n",
       " array([[4.21509399],\n",
       "        [2.7701153 ]]),\n",
       " array([[4.21509406],\n",
       "        [2.77011524]]),\n",
       " array([[4.21509413],\n",
       "        [2.77011518]]),\n",
       " array([[4.2150942 ],\n",
       "        [2.77011511]]),\n",
       " array([[4.21509427],\n",
       "        [2.77011506]]),\n",
       " array([[4.21509433],\n",
       "        [2.770115  ]]),\n",
       " array([[4.21509439],\n",
       "        [2.77011494]]),\n",
       " array([[4.21509445],\n",
       "        [2.77011489]]),\n",
       " array([[4.21509451],\n",
       "        [2.77011484]]),\n",
       " array([[4.21509457],\n",
       "        [2.77011479]]),\n",
       " array([[4.21509462],\n",
       "        [2.77011474]]),\n",
       " array([[4.21509467],\n",
       "        [2.7701147 ]]),\n",
       " array([[4.21509472],\n",
       "        [2.77011465]]),\n",
       " array([[4.21509477],\n",
       "        [2.77011461]]),\n",
       " array([[4.21509482],\n",
       "        [2.77011457]]),\n",
       " array([[4.21509486],\n",
       "        [2.77011453]]),\n",
       " array([[4.21509491],\n",
       "        [2.77011449]]),\n",
       " array([[4.21509495],\n",
       "        [2.77011445]]),\n",
       " array([[4.21509499],\n",
       "        [2.77011442]]),\n",
       " array([[4.21509503],\n",
       "        [2.77011438]]),\n",
       " array([[4.21509507],\n",
       "        [2.77011435]]),\n",
       " array([[4.21509511],\n",
       "        [2.77011431]]),\n",
       " array([[4.21509514],\n",
       "        [2.77011428]]),\n",
       " array([[4.21509518],\n",
       "        [2.77011425]]),\n",
       " array([[4.21509521],\n",
       "        [2.77011422]]),\n",
       " array([[4.21509524],\n",
       "        [2.77011419]]),\n",
       " array([[4.21509527],\n",
       "        [2.77011417]]),\n",
       " array([[4.2150953 ],\n",
       "        [2.77011414]]),\n",
       " array([[4.21509533],\n",
       "        [2.77011412]]),\n",
       " array([[4.21509536],\n",
       "        [2.77011409]]),\n",
       " array([[4.21509539],\n",
       "        [2.77011407]]),\n",
       " array([[4.21509541],\n",
       "        [2.77011404]]),\n",
       " array([[4.21509544],\n",
       "        [2.77011402]]),\n",
       " array([[4.21509546],\n",
       "        [2.770114  ]]),\n",
       " array([[4.21509549],\n",
       "        [2.77011398]]),\n",
       " array([[4.21509551],\n",
       "        [2.77011396]]),\n",
       " array([[4.21509553],\n",
       "        [2.77011394]]),\n",
       " array([[4.21509555],\n",
       "        [2.77011392]]),\n",
       " array([[4.21509557],\n",
       "        [2.7701139 ]]),\n",
       " array([[4.21509559],\n",
       "        [2.77011388]]),\n",
       " array([[4.21509561],\n",
       "        [2.77011387]]),\n",
       " array([[4.21509563],\n",
       "        [2.77011385]]),\n",
       " array([[4.21509565],\n",
       "        [2.77011384]]),\n",
       " array([[4.21509567],\n",
       "        [2.77011382]]),\n",
       " array([[4.21509568],\n",
       "        [2.77011381]]),\n",
       " array([[4.2150957 ],\n",
       "        [2.77011379]]),\n",
       " array([[4.21509571],\n",
       "        [2.77011378]]),\n",
       " array([[4.21509573],\n",
       "        [2.77011376]]),\n",
       " array([[4.21509574],\n",
       "        [2.77011375]]),\n",
       " array([[4.21509576],\n",
       "        [2.77011374]]),\n",
       " array([[4.21509577],\n",
       "        [2.77011373]]),\n",
       " array([[4.21509578],\n",
       "        [2.77011372]]),\n",
       " array([[4.2150958],\n",
       "        [2.7701137]]),\n",
       " array([[4.21509581],\n",
       "        [2.77011369]]),\n",
       " array([[4.21509582],\n",
       "        [2.77011368]]),\n",
       " array([[4.21509583],\n",
       "        [2.77011367]]),\n",
       " array([[4.21509584],\n",
       "        [2.77011366]]),\n",
       " array([[4.21509585],\n",
       "        [2.77011365]]),\n",
       " array([[4.21509586],\n",
       "        [2.77011365]]),\n",
       " array([[4.21509587],\n",
       "        [2.77011364]]),\n",
       " array([[4.21509588],\n",
       "        [2.77011363]]),\n",
       " array([[4.21509589],\n",
       "        [2.77011362]]),\n",
       " array([[4.2150959 ],\n",
       "        [2.77011361]]),\n",
       " array([[4.21509591],\n",
       "        [2.7701136 ]]),\n",
       " array([[4.21509592],\n",
       "        [2.7701136 ]]),\n",
       " array([[4.21509593],\n",
       "        [2.77011359]]),\n",
       " array([[4.21509594],\n",
       "        [2.77011358]]),\n",
       " array([[4.21509594],\n",
       "        [2.77011358]]),\n",
       " array([[4.21509595],\n",
       "        [2.77011357]]),\n",
       " array([[4.21509596],\n",
       "        [2.77011356]]),\n",
       " array([[4.21509596],\n",
       "        [2.77011356]]),\n",
       " array([[4.21509597],\n",
       "        [2.77011355]]),\n",
       " array([[4.21509598],\n",
       "        [2.77011355]]),\n",
       " array([[4.21509598],\n",
       "        [2.77011354]]),\n",
       " array([[4.21509599],\n",
       "        [2.77011354]]),\n",
       " array([[4.21509599],\n",
       "        [2.77011353]]),\n",
       " array([[4.215096  ],\n",
       "        [2.77011353]]),\n",
       " array([[4.21509601],\n",
       "        [2.77011352]]),\n",
       " array([[4.21509601],\n",
       "        [2.77011352]]),\n",
       " array([[4.21509602],\n",
       "        [2.77011351]]),\n",
       " array([[4.21509602],\n",
       "        [2.77011351]]),\n",
       " array([[4.21509603],\n",
       "        [2.7701135 ]]),\n",
       " array([[4.21509603],\n",
       "        [2.7701135 ]]),\n",
       " array([[4.21509603],\n",
       "        [2.7701135 ]]),\n",
       " array([[4.21509604],\n",
       "        [2.77011349]]),\n",
       " array([[4.21509604],\n",
       "        [2.77011349]]),\n",
       " array([[4.21509605],\n",
       "        [2.77011348]]),\n",
       " array([[4.21509605],\n",
       "        [2.77011348]]),\n",
       " array([[4.21509605],\n",
       "        [2.77011348]]),\n",
       " array([[4.21509606],\n",
       "        [2.77011348]]),\n",
       " array([[4.21509606],\n",
       "        [2.77011347]]),\n",
       " array([[4.21509606],\n",
       "        [2.77011347]]),\n",
       " array([[4.21509607],\n",
       "        [2.77011347]]),\n",
       " array([[4.21509607],\n",
       "        [2.77011346]]),\n",
       " array([[4.21509607],\n",
       "        [2.77011346]]),\n",
       " array([[4.21509608],\n",
       "        [2.77011346]]),\n",
       " array([[4.21509608],\n",
       "        [2.77011346]]),\n",
       " array([[4.21509608],\n",
       "        [2.77011345]]),\n",
       " array([[4.21509608],\n",
       "        [2.77011345]]),\n",
       " array([[4.21509609],\n",
       "        [2.77011345]]),\n",
       " array([[4.21509609],\n",
       "        [2.77011345]]),\n",
       " array([[4.21509609],\n",
       "        [2.77011345]]),\n",
       " array([[4.21509609],\n",
       "        [2.77011344]]),\n",
       " array([[4.2150961 ],\n",
       "        [2.77011344]]),\n",
       " array([[4.2150961 ],\n",
       "        [2.77011344]]),\n",
       " array([[4.2150961 ],\n",
       "        [2.77011344]]),\n",
       " array([[4.2150961 ],\n",
       "        [2.77011344]]),\n",
       " array([[4.2150961 ],\n",
       "        [2.77011343]]),\n",
       " array([[4.21509611],\n",
       "        [2.77011343]]),\n",
       " array([[4.21509611],\n",
       "        [2.77011343]]),\n",
       " array([[4.21509611],\n",
       "        [2.77011343]]),\n",
       " array([[4.21509611],\n",
       "        [2.77011343]]),\n",
       " array([[4.21509611],\n",
       "        [2.77011343]]),\n",
       " array([[4.21509611],\n",
       "        [2.77011343]]),\n",
       " array([[4.21509612],\n",
       "        [2.77011342]]),\n",
       " array([[4.21509612],\n",
       "        [2.77011342]]),\n",
       " array([[4.21509612],\n",
       "        [2.77011342]]),\n",
       " array([[4.21509612],\n",
       "        [2.77011342]]),\n",
       " array([[4.21509612],\n",
       "        [2.77011342]]),\n",
       " array([[4.21509612],\n",
       "        [2.77011342]]),\n",
       " array([[4.21509612],\n",
       "        [2.77011342]]),\n",
       " array([[4.21509612],\n",
       "        [2.77011342]]),\n",
       " array([[4.21509613],\n",
       "        [2.77011341]]),\n",
       " array([[4.21509613],\n",
       "        [2.77011341]]),\n",
       " array([[4.21509613],\n",
       "        [2.77011341]]),\n",
       " array([[4.21509613],\n",
       "        [2.77011341]]),\n",
       " array([[4.21509613],\n",
       "        [2.77011341]]),\n",
       " array([[4.21509613],\n",
       "        [2.77011341]]),\n",
       " array([[4.21509613],\n",
       "        [2.77011341]]),\n",
       " array([[4.21509613],\n",
       "        [2.77011341]]),\n",
       " array([[4.21509613],\n",
       "        [2.77011341]]),\n",
       " array([[4.21509613],\n",
       "        [2.77011341]]),\n",
       " array([[4.21509613],\n",
       "        [2.77011341]]),\n",
       " array([[4.21509614],\n",
       "        [2.77011341]]),\n",
       " array([[4.21509614],\n",
       "        [2.77011341]]),\n",
       " array([[4.21509614],\n",
       "        [2.7701134 ]]),\n",
       " array([[4.21509614],\n",
       "        [2.7701134 ]]),\n",
       " array([[4.21509614],\n",
       "        [2.7701134 ]]),\n",
       " array([[4.21509614],\n",
       "        [2.7701134 ]]),\n",
       " array([[4.21509614],\n",
       "        [2.7701134 ]]),\n",
       " array([[4.21509614],\n",
       "        [2.7701134 ]]),\n",
       " array([[4.21509614],\n",
       "        [2.7701134 ]]),\n",
       " array([[4.21509614],\n",
       "        [2.7701134 ]]),\n",
       " array([[4.21509614],\n",
       "        [2.7701134 ]]),\n",
       " array([[4.21509614],\n",
       "        [2.7701134 ]]),\n",
       " array([[4.21509614],\n",
       "        [2.7701134 ]]),\n",
       " array([[4.21509614],\n",
       "        [2.7701134 ]]),\n",
       " array([[4.21509614],\n",
       "        [2.7701134 ]]),\n",
       " array([[4.21509614],\n",
       "        [2.7701134 ]]),\n",
       " array([[4.21509614],\n",
       "        [2.7701134 ]]),\n",
       " array([[4.21509615],\n",
       "        [2.7701134 ]]),\n",
       " array([[4.21509615],\n",
       "        [2.7701134 ]]),\n",
       " array([[4.21509615],\n",
       "        [2.7701134 ]]),\n",
       " array([[4.21509615],\n",
       "        [2.7701134 ]]),\n",
       " array([[4.21509615],\n",
       "        [2.7701134 ]]),\n",
       " array([[4.21509615],\n",
       "        [2.7701134 ]]),\n",
       " array([[4.21509615],\n",
       "        [2.7701134 ]]),\n",
       " array([[4.21509615],\n",
       "        [2.77011339]]),\n",
       " array([[4.21509615],\n",
       "        [2.77011339]]),\n",
       " array([[4.21509615],\n",
       "        [2.77011339]]),\n",
       " array([[4.21509615],\n",
       "        [2.77011339]]),\n",
       " array([[4.21509615],\n",
       "        [2.77011339]]),\n",
       " array([[4.21509615],\n",
       "        [2.77011339]]),\n",
       " array([[4.21509615],\n",
       "        [2.77011339]]),\n",
       " array([[4.21509615],\n",
       "        [2.77011339]]),\n",
       " array([[4.21509615],\n",
       "        [2.77011339]]),\n",
       " array([[4.21509615],\n",
       "        [2.77011339]]),\n",
       " array([[4.21509615],\n",
       "        [2.77011339]]),\n",
       " array([[4.21509615],\n",
       "        [2.77011339]]),\n",
       " array([[4.21509615],\n",
       "        [2.77011339]]),\n",
       " array([[4.21509615],\n",
       "        [2.77011339]]),\n",
       " array([[4.21509615],\n",
       "        [2.77011339]]),\n",
       " array([[4.21509615],\n",
       "        [2.77011339]]),\n",
       " array([[4.21509615],\n",
       "        [2.77011339]]),\n",
       " array([[4.21509615],\n",
       "        [2.77011339]]),\n",
       " array([[4.21509615],\n",
       "        [2.77011339]]),\n",
       " array([[4.21509615],\n",
       "        [2.77011339]]),\n",
       " array([[4.21509615],\n",
       "        [2.77011339]]),\n",
       " array([[4.21509615],\n",
       "        [2.77011339]]),\n",
       " array([[4.21509615],\n",
       "        [2.77011339]]),\n",
       " array([[4.21509615],\n",
       "        [2.77011339]]),\n",
       " array([[4.21509615],\n",
       "        [2.77011339]]),\n",
       " array([[4.21509615],\n",
       "        [2.77011339]]),\n",
       " array([[4.21509615],\n",
       "        [2.77011339]]),\n",
       " array([[4.21509615],\n",
       "        [2.77011339]]),\n",
       " array([[4.21509615],\n",
       "        [2.77011339]]),\n",
       " array([[4.21509615],\n",
       "        [2.77011339]]),\n",
       " array([[4.21509615],\n",
       "        [2.77011339]]),\n",
       " array([[4.21509615],\n",
       "        [2.77011339]]),\n",
       " array([[4.21509615],\n",
       "        [2.77011339]]),\n",
       " array([[4.21509615],\n",
       "        [2.77011339]]),\n",
       " array([[4.21509615],\n",
       "        [2.77011339]]),\n",
       " array([[4.21509615],\n",
       "        [2.77011339]]),\n",
       " array([[4.21509615],\n",
       "        [2.77011339]]),\n",
       " array([[4.21509615],\n",
       "        [2.77011339]]),\n",
       " array([[4.21509615],\n",
       "        [2.77011339]]),\n",
       " array([[4.21509616],\n",
       "        [2.77011339]]),\n",
       " array([[4.21509616],\n",
       "        [2.77011339]]),\n",
       " array([[4.21509616],\n",
       "        [2.77011339]]),\n",
       " array([[4.21509616],\n",
       "        [2.77011339]]),\n",
       " array([[4.21509616],\n",
       "        [2.77011339]]),\n",
       " array([[4.21509616],\n",
       "        [2.77011339]]),\n",
       " array([[4.21509616],\n",
       "        [2.77011339]]),\n",
       " array([[4.21509616],\n",
       "        [2.77011339]]),\n",
       " array([[4.21509616],\n",
       "        [2.77011339]]),\n",
       " array([[4.21509616],\n",
       "        [2.77011339]]),\n",
       " array([[4.21509616],\n",
       "        [2.77011339]]),\n",
       " array([[4.21509616],\n",
       "        [2.77011339]]),\n",
       " array([[4.21509616],\n",
       "        [2.77011339]]),\n",
       " array([[4.21509616],\n",
       "        [2.77011339]]),\n",
       " array([[4.21509616],\n",
       "        [2.77011339]]),\n",
       " array([[4.21509616],\n",
       "        [2.77011339]]),\n",
       " array([[4.21509616],\n",
       "        [2.77011339]]),\n",
       " array([[4.21509616],\n",
       "        [2.77011339]]),\n",
       " array([[4.21509616],\n",
       "        [2.77011339]]),\n",
       " array([[4.21509616],\n",
       "        [2.77011339]]),\n",
       " array([[4.21509616],\n",
       "        [2.77011339]]),\n",
       " array([[4.21509616],\n",
       "        [2.77011339]]),\n",
       " array([[4.21509616],\n",
       "        [2.77011339]]),\n",
       " array([[4.21509616],\n",
       "        [2.77011339]]),\n",
       " array([[4.21509616],\n",
       "        [2.77011339]]),\n",
       " array([[4.21509616],\n",
       "        [2.77011339]]),\n",
       " array([[4.21509616],\n",
       "        [2.77011339]]),\n",
       " array([[4.21509616],\n",
       "        [2.77011339]]),\n",
       " array([[4.21509616],\n",
       "        [2.77011339]]),\n",
       " array([[4.21509616],\n",
       "        [2.77011339]]),\n",
       " array([[4.21509616],\n",
       "        [2.77011339]]),\n",
       " array([[4.21509616],\n",
       "        [2.77011339]]),\n",
       " array([[4.21509616],\n",
       "        [2.77011339]]),\n",
       " array([[4.21509616],\n",
       "        [2.77011339]]),\n",
       " array([[4.21509616],\n",
       "        [2.77011339]]),\n",
       " array([[4.21509616],\n",
       "        [2.77011339]]),\n",
       " array([[4.21509616],\n",
       "        [2.77011339]]),\n",
       " array([[4.21509616],\n",
       "        [2.77011339]]),\n",
       " array([[4.21509616],\n",
       "        [2.77011339]]),\n",
       " array([[4.21509616],\n",
       "        [2.77011339]]),\n",
       " array([[4.21509616],\n",
       "        [2.77011339]]),\n",
       " array([[4.21509616],\n",
       "        [2.77011339]]),\n",
       " array([[4.21509616],\n",
       "        [2.77011339]]),\n",
       " array([[4.21509616],\n",
       "        [2.77011339]]),\n",
       " array([[4.21509616],\n",
       "        [2.77011339]]),\n",
       " array([[4.21509616],\n",
       "        [2.77011339]]),\n",
       " array([[4.21509616],\n",
       "        [2.77011339]]),\n",
       " array([[4.21509616],\n",
       "        [2.77011339]]),\n",
       " array([[4.21509616],\n",
       "        [2.77011339]]),\n",
       " array([[4.21509616],\n",
       "        [2.77011339]]),\n",
       " array([[4.21509616],\n",
       "        [2.77011339]]),\n",
       " array([[4.21509616],\n",
       "        [2.77011339]]),\n",
       " array([[4.21509616],\n",
       "        [2.77011339]]),\n",
       " array([[4.21509616],\n",
       "        [2.77011339]]),\n",
       " array([[4.21509616],\n",
       "        [2.77011339]]),\n",
       " array([[4.21509616],\n",
       "        [2.77011339]]),\n",
       " array([[4.21509616],\n",
       "        [2.77011339]]),\n",
       " array([[4.21509616],\n",
       "        [2.77011339]]),\n",
       " array([[4.21509616],\n",
       "        [2.77011339]]),\n",
       " array([[4.21509616],\n",
       "        [2.77011339]]),\n",
       " array([[4.21509616],\n",
       "        [2.77011339]]),\n",
       " array([[4.21509616],\n",
       "        [2.77011339]]),\n",
       " array([[4.21509616],\n",
       "        [2.77011339]]),\n",
       " array([[4.21509616],\n",
       "        [2.77011339]]),\n",
       " array([[4.21509616],\n",
       "        [2.77011339]]),\n",
       " array([[4.21509616],\n",
       "        [2.77011339]]),\n",
       " array([[4.21509616],\n",
       "        [2.77011339]]),\n",
       " array([[4.21509616],\n",
       "        [2.77011339]]),\n",
       " array([[4.21509616],\n",
       "        [2.77011339]]),\n",
       " array([[4.21509616],\n",
       "        [2.77011339]]),\n",
       " array([[4.21509616],\n",
       "        [2.77011339]]),\n",
       " array([[4.21509616],\n",
       "        [2.77011339]]),\n",
       " array([[4.21509616],\n",
       "        [2.77011339]]),\n",
       " array([[4.21509616],\n",
       "        [2.77011339]]),\n",
       " array([[4.21509616],\n",
       "        [2.77011339]]),\n",
       " array([[4.21509616],\n",
       "        [2.77011339]]),\n",
       " array([[4.21509616],\n",
       "        [2.77011339]]),\n",
       " array([[4.21509616],\n",
       "        [2.77011339]]),\n",
       " array([[4.21509616],\n",
       "        [2.77011339]]),\n",
       " array([[4.21509616],\n",
       "        [2.77011339]]),\n",
       " array([[4.21509616],\n",
       "        [2.77011339]]),\n",
       " array([[4.21509616],\n",
       "        [2.77011339]]),\n",
       " array([[4.21509616],\n",
       "        [2.77011339]]),\n",
       " array([[4.21509616],\n",
       "        [2.77011339]]),\n",
       " array([[4.21509616],\n",
       "        [2.77011339]]),\n",
       " array([[4.21509616],\n",
       "        [2.77011339]]),\n",
       " array([[4.21509616],\n",
       "        [2.77011339]]),\n",
       " array([[4.21509616],\n",
       "        [2.77011339]]),\n",
       " array([[4.21509616],\n",
       "        [2.77011339]]),\n",
       " array([[4.21509616],\n",
       "        [2.77011339]]),\n",
       " array([[4.21509616],\n",
       "        [2.77011339]]),\n",
       " array([[4.21509616],\n",
       "        [2.77011339]]),\n",
       " array([[4.21509616],\n",
       "        [2.77011339]]),\n",
       " array([[4.21509616],\n",
       "        [2.77011339]]),\n",
       " array([[4.21509616],\n",
       "        [2.77011339]]),\n",
       " array([[4.21509616],\n",
       "        [2.77011339]]),\n",
       " array([[4.21509616],\n",
       "        [2.77011339]]),\n",
       " array([[4.21509616],\n",
       "        [2.77011339]]),\n",
       " array([[4.21509616],\n",
       "        [2.77011339]]),\n",
       " array([[4.21509616],\n",
       "        [2.77011339]]),\n",
       " array([[4.21509616],\n",
       "        [2.77011339]]),\n",
       " array([[4.21509616],\n",
       "        [2.77011339]]),\n",
       " array([[4.21509616],\n",
       "        [2.77011339]]),\n",
       " array([[4.21509616],\n",
       "        [2.77011339]]),\n",
       " array([[4.21509616],\n",
       "        [2.77011339]]),\n",
       " array([[4.21509616],\n",
       "        [2.77011339]]),\n",
       " array([[4.21509616],\n",
       "        [2.77011339]]),\n",
       " array([[4.21509616],\n",
       "        [2.77011339]]),\n",
       " array([[4.21509616],\n",
       "        [2.77011339]]),\n",
       " array([[4.21509616],\n",
       "        [2.77011339]]),\n",
       " array([[4.21509616],\n",
       "        [2.77011339]]),\n",
       " array([[4.21509616],\n",
       "        [2.77011339]]),\n",
       " array([[4.21509616],\n",
       "        [2.77011339]]),\n",
       " array([[4.21509616],\n",
       "        [2.77011339]]),\n",
       " array([[4.21509616],\n",
       "        [2.77011339]]),\n",
       " array([[4.21509616],\n",
       "        [2.77011339]]),\n",
       " array([[4.21509616],\n",
       "        [2.77011339]]),\n",
       " array([[4.21509616],\n",
       "        [2.77011339]]),\n",
       " array([[4.21509616],\n",
       "        [2.77011339]]),\n",
       " array([[4.21509616],\n",
       "        [2.77011339]]),\n",
       " array([[4.21509616],\n",
       "        [2.77011339]]),\n",
       " array([[4.21509616],\n",
       "        [2.77011339]]),\n",
       " array([[4.21509616],\n",
       "        [2.77011339]]),\n",
       " array([[4.21509616],\n",
       "        [2.77011339]]),\n",
       " array([[4.21509616],\n",
       "        [2.77011339]]),\n",
       " array([[4.21509616],\n",
       "        [2.77011339]]),\n",
       " array([[4.21509616],\n",
       "        [2.77011339]]),\n",
       " array([[4.21509616],\n",
       "        [2.77011339]]),\n",
       " array([[4.21509616],\n",
       "        [2.77011339]]),\n",
       " array([[4.21509616],\n",
       "        [2.77011339]]),\n",
       " array([[4.21509616],\n",
       "        [2.77011339]]),\n",
       " array([[4.21509616],\n",
       "        [2.77011339]]),\n",
       " array([[4.21509616],\n",
       "        [2.77011339]]),\n",
       " array([[4.21509616],\n",
       "        [2.77011339]]),\n",
       " array([[4.21509616],\n",
       "        [2.77011339]]),\n",
       " array([[4.21509616],\n",
       "        [2.77011339]]),\n",
       " array([[4.21509616],\n",
       "        [2.77011339]]),\n",
       " array([[4.21509616],\n",
       "        [2.77011339]]),\n",
       " array([[4.21509616],\n",
       "        [2.77011339]]),\n",
       " array([[4.21509616],\n",
       "        [2.77011339]]),\n",
       " array([[4.21509616],\n",
       "        [2.77011339]]),\n",
       " array([[4.21509616],\n",
       "        [2.77011339]]),\n",
       " array([[4.21509616],\n",
       "        [2.77011339]]),\n",
       " array([[4.21509616],\n",
       "        [2.77011339]]),\n",
       " array([[4.21509616],\n",
       "        [2.77011339]]),\n",
       " array([[4.21509616],\n",
       "        [2.77011339]]),\n",
       " array([[4.21509616],\n",
       "        [2.77011339]]),\n",
       " array([[4.21509616],\n",
       "        [2.77011339]]),\n",
       " array([[4.21509616],\n",
       "        [2.77011339]]),\n",
       " array([[4.21509616],\n",
       "        [2.77011339]]),\n",
       " array([[4.21509616],\n",
       "        [2.77011339]]),\n",
       " array([[4.21509616],\n",
       "        [2.77011339]]),\n",
       " array([[4.21509616],\n",
       "        [2.77011339]]),\n",
       " array([[4.21509616],\n",
       "        [2.77011339]]),\n",
       " array([[4.21509616],\n",
       "        [2.77011339]]),\n",
       " array([[4.21509616],\n",
       "        [2.77011339]]),\n",
       " array([[4.21509616],\n",
       "        [2.77011339]]),\n",
       " array([[4.21509616],\n",
       "        [2.77011339]]),\n",
       " array([[4.21509616],\n",
       "        [2.77011339]]),\n",
       " array([[4.21509616],\n",
       "        [2.77011339]]),\n",
       " array([[4.21509616],\n",
       "        [2.77011339]]),\n",
       " array([[4.21509616],\n",
       "        [2.77011339]]),\n",
       " array([[4.21509616],\n",
       "        [2.77011339]]),\n",
       " array([[4.21509616],\n",
       "        [2.77011339]]),\n",
       " array([[4.21509616],\n",
       "        [2.77011339]]),\n",
       " array([[4.21509616],\n",
       "        [2.77011339]]),\n",
       " array([[4.21509616],\n",
       "        [2.77011339]]),\n",
       " array([[4.21509616],\n",
       "        [2.77011339]]),\n",
       " array([[4.21509616],\n",
       "        [2.77011339]]),\n",
       " array([[4.21509616],\n",
       "        [2.77011339]]),\n",
       " array([[4.21509616],\n",
       "        [2.77011339]]),\n",
       " array([[4.21509616],\n",
       "        [2.77011339]]),\n",
       " array([[4.21509616],\n",
       "        [2.77011339]]),\n",
       " array([[4.21509616],\n",
       "        [2.77011339]]),\n",
       " array([[4.21509616],\n",
       "        [2.77011339]]),\n",
       " array([[4.21509616],\n",
       "        [2.77011339]]),\n",
       " array([[4.21509616],\n",
       "        [2.77011339]]),\n",
       " array([[4.21509616],\n",
       "        [2.77011339]]),\n",
       " array([[4.21509616],\n",
       "        [2.77011339]]),\n",
       " array([[4.21509616],\n",
       "        [2.77011339]]),\n",
       " array([[4.21509616],\n",
       "        [2.77011339]]),\n",
       " array([[4.21509616],\n",
       "        [2.77011339]]),\n",
       " array([[4.21509616],\n",
       "        [2.77011339]]),\n",
       " array([[4.21509616],\n",
       "        [2.77011339]]),\n",
       " array([[4.21509616],\n",
       "        [2.77011339]]),\n",
       " array([[4.21509616],\n",
       "        [2.77011339]]),\n",
       " array([[4.21509616],\n",
       "        [2.77011339]]),\n",
       " array([[4.21509616],\n",
       "        [2.77011339]]),\n",
       " array([[4.21509616],\n",
       "        [2.77011339]]),\n",
       " array([[4.21509616],\n",
       "        [2.77011339]]),\n",
       " array([[4.21509616],\n",
       "        [2.77011339]]),\n",
       " array([[4.21509616],\n",
       "        [2.77011339]]),\n",
       " array([[4.21509616],\n",
       "        [2.77011339]]),\n",
       " array([[4.21509616],\n",
       "        [2.77011339]]),\n",
       " array([[4.21509616],\n",
       "        [2.77011339]]),\n",
       " array([[4.21509616],\n",
       "        [2.77011339]]),\n",
       " array([[4.21509616],\n",
       "        [2.77011339]]),\n",
       " array([[4.21509616],\n",
       "        [2.77011339]]),\n",
       " array([[4.21509616],\n",
       "        [2.77011339]]),\n",
       " array([[4.21509616],\n",
       "        [2.77011339]]),\n",
       " array([[4.21509616],\n",
       "        [2.77011339]]),\n",
       " array([[4.21509616],\n",
       "        [2.77011339]]),\n",
       " array([[4.21509616],\n",
       "        [2.77011339]]),\n",
       " array([[4.21509616],\n",
       "        [2.77011339]]),\n",
       " array([[4.21509616],\n",
       "        [2.77011339]]),\n",
       " array([[4.21509616],\n",
       "        [2.77011339]]),\n",
       " array([[4.21509616],\n",
       "        [2.77011339]]),\n",
       " array([[4.21509616],\n",
       "        [2.77011339]]),\n",
       " array([[4.21509616],\n",
       "        [2.77011339]]),\n",
       " array([[4.21509616],\n",
       "        [2.77011339]]),\n",
       " array([[4.21509616],\n",
       "        [2.77011339]]),\n",
       " array([[4.21509616],\n",
       "        [2.77011339]]),\n",
       " array([[4.21509616],\n",
       "        [2.77011339]]),\n",
       " array([[4.21509616],\n",
       "        [2.77011339]]),\n",
       " array([[4.21509616],\n",
       "        [2.77011339]]),\n",
       " array([[4.21509616],\n",
       "        [2.77011339]]),\n",
       " array([[4.21509616],\n",
       "        [2.77011339]]),\n",
       " array([[4.21509616],\n",
       "        [2.77011339]]),\n",
       " array([[4.21509616],\n",
       "        [2.77011339]]),\n",
       " array([[4.21509616],\n",
       "        [2.77011339]]),\n",
       " array([[4.21509616],\n",
       "        [2.77011339]]),\n",
       " array([[4.21509616],\n",
       "        [2.77011339]]),\n",
       " array([[4.21509616],\n",
       "        [2.77011339]]),\n",
       " array([[4.21509616],\n",
       "        [2.77011339]]),\n",
       " array([[4.21509616],\n",
       "        [2.77011339]]),\n",
       " array([[4.21509616],\n",
       "        [2.77011339]]),\n",
       " array([[4.21509616],\n",
       "        [2.77011339]]),\n",
       " array([[4.21509616],\n",
       "        [2.77011339]]),\n",
       " array([[4.21509616],\n",
       "        [2.77011339]]),\n",
       " array([[4.21509616],\n",
       "        [2.77011339]]),\n",
       " array([[4.21509616],\n",
       "        [2.77011339]]),\n",
       " array([[4.21509616],\n",
       "        [2.77011339]]),\n",
       " array([[4.21509616],\n",
       "        [2.77011339]]),\n",
       " array([[4.21509616],\n",
       "        [2.77011339]]),\n",
       " array([[4.21509616],\n",
       "        [2.77011339]]),\n",
       " array([[4.21509616],\n",
       "        [2.77011339]]),\n",
       " array([[4.21509616],\n",
       "        [2.77011339]]),\n",
       " array([[4.21509616],\n",
       "        [2.77011339]]),\n",
       " array([[4.21509616],\n",
       "        [2.77011339]]),\n",
       " array([[4.21509616],\n",
       "        [2.77011339]]),\n",
       " array([[4.21509616],\n",
       "        [2.77011339]]),\n",
       " array([[4.21509616],\n",
       "        [2.77011339]]),\n",
       " array([[4.21509616],\n",
       "        [2.77011339]]),\n",
       " array([[4.21509616],\n",
       "        [2.77011339]]),\n",
       " array([[4.21509616],\n",
       "        [2.77011339]]),\n",
       " array([[4.21509616],\n",
       "        [2.77011339]]),\n",
       " array([[4.21509616],\n",
       "        [2.77011339]]),\n",
       " array([[4.21509616],\n",
       "        [2.77011339]]),\n",
       " array([[4.21509616],\n",
       "        [2.77011339]]),\n",
       " array([[4.21509616],\n",
       "        [2.77011339]]),\n",
       " array([[4.21509616],\n",
       "        [2.77011339]]),\n",
       " array([[4.21509616],\n",
       "        [2.77011339]]),\n",
       " array([[4.21509616],\n",
       "        [2.77011339]]),\n",
       " array([[4.21509616],\n",
       "        [2.77011339]]),\n",
       " array([[4.21509616],\n",
       "        [2.77011339]]),\n",
       " array([[4.21509616],\n",
       "        [2.77011339]]),\n",
       " array([[4.21509616],\n",
       "        [2.77011339]]),\n",
       " array([[4.21509616],\n",
       "        [2.77011339]]),\n",
       " array([[4.21509616],\n",
       "        [2.77011339]]),\n",
       " array([[4.21509616],\n",
       "        [2.77011339]]),\n",
       " array([[4.21509616],\n",
       "        [2.77011339]]),\n",
       " array([[4.21509616],\n",
       "        [2.77011339]]),\n",
       " array([[4.21509616],\n",
       "        [2.77011339]]),\n",
       " array([[4.21509616],\n",
       "        [2.77011339]]),\n",
       " array([[4.21509616],\n",
       "        [2.77011339]]),\n",
       " array([[4.21509616],\n",
       "        [2.77011339]]),\n",
       " array([[4.21509616],\n",
       "        [2.77011339]]),\n",
       " array([[4.21509616],\n",
       "        [2.77011339]]),\n",
       " array([[4.21509616],\n",
       "        [2.77011339]]),\n",
       " array([[4.21509616],\n",
       "        [2.77011339]]),\n",
       " array([[4.21509616],\n",
       "        [2.77011339]]),\n",
       " array([[4.21509616],\n",
       "        [2.77011339]]),\n",
       " array([[4.21509616],\n",
       "        [2.77011339]]),\n",
       " array([[4.21509616],\n",
       "        [2.77011339]]),\n",
       " array([[4.21509616],\n",
       "        [2.77011339]]),\n",
       " array([[4.21509616],\n",
       "        [2.77011339]]),\n",
       " array([[4.21509616],\n",
       "        [2.77011339]]),\n",
       " array([[4.21509616],\n",
       "        [2.77011339]]),\n",
       " array([[4.21509616],\n",
       "        [2.77011339]]),\n",
       " array([[4.21509616],\n",
       "        [2.77011339]]),\n",
       " array([[4.21509616],\n",
       "        [2.77011339]]),\n",
       " array([[4.21509616],\n",
       "        [2.77011339]]),\n",
       " array([[4.21509616],\n",
       "        [2.77011339]]),\n",
       " array([[4.21509616],\n",
       "        [2.77011339]]),\n",
       " array([[4.21509616],\n",
       "        [2.77011339]]),\n",
       " array([[4.21509616],\n",
       "        [2.77011339]]),\n",
       " array([[4.21509616],\n",
       "        [2.77011339]]),\n",
       " array([[4.21509616],\n",
       "        [2.77011339]]),\n",
       " array([[4.21509616],\n",
       "        [2.77011339]]),\n",
       " array([[4.21509616],\n",
       "        [2.77011339]]),\n",
       " array([[4.21509616],\n",
       "        [2.77011339]]),\n",
       " array([[4.21509616],\n",
       "        [2.77011339]]),\n",
       " array([[4.21509616],\n",
       "        [2.77011339]]),\n",
       " array([[4.21509616],\n",
       "        [2.77011339]]),\n",
       " array([[4.21509616],\n",
       "        [2.77011339]]),\n",
       " array([[4.21509616],\n",
       "        [2.77011339]]),\n",
       " array([[4.21509616],\n",
       "        [2.77011339]]),\n",
       " array([[4.21509616],\n",
       "        [2.77011339]]),\n",
       " array([[4.21509616],\n",
       "        [2.77011339]]),\n",
       " array([[4.21509616],\n",
       "        [2.77011339]]),\n",
       " array([[4.21509616],\n",
       "        [2.77011339]]),\n",
       " array([[4.21509616],\n",
       "        [2.77011339]]),\n",
       " array([[4.21509616],\n",
       "        [2.77011339]]),\n",
       " array([[4.21509616],\n",
       "        [2.77011339]]),\n",
       " array([[4.21509616],\n",
       "        [2.77011339]]),\n",
       " array([[4.21509616],\n",
       "        [2.77011339]]),\n",
       " array([[4.21509616],\n",
       "        [2.77011339]]),\n",
       " array([[4.21509616],\n",
       "        [2.77011339]]),\n",
       " array([[4.21509616],\n",
       "        [2.77011339]]),\n",
       " array([[4.21509616],\n",
       "        [2.77011339]]),\n",
       " array([[4.21509616],\n",
       "        [2.77011339]]),\n",
       " array([[4.21509616],\n",
       "        [2.77011339]]),\n",
       " array([[4.21509616],\n",
       "        [2.77011339]]),\n",
       " array([[4.21509616],\n",
       "        [2.77011339]]),\n",
       " array([[4.21509616],\n",
       "        [2.77011339]]),\n",
       " array([[4.21509616],\n",
       "        [2.77011339]]),\n",
       " array([[4.21509616],\n",
       "        [2.77011339]]),\n",
       " array([[4.21509616],\n",
       "        [2.77011339]]),\n",
       " array([[4.21509616],\n",
       "        [2.77011339]]),\n",
       " array([[4.21509616],\n",
       "        [2.77011339]]),\n",
       " array([[4.21509616],\n",
       "        [2.77011339]]),\n",
       " array([[4.21509616],\n",
       "        [2.77011339]]),\n",
       " array([[4.21509616],\n",
       "        [2.77011339]]),\n",
       " array([[4.21509616],\n",
       "        [2.77011339]]),\n",
       " array([[4.21509616],\n",
       "        [2.77011339]]),\n",
       " array([[4.21509616],\n",
       "        [2.77011339]]),\n",
       " array([[4.21509616],\n",
       "        [2.77011339]]),\n",
       " array([[4.21509616],\n",
       "        [2.77011339]]),\n",
       " array([[4.21509616],\n",
       "        [2.77011339]]),\n",
       " array([[4.21509616],\n",
       "        [2.77011339]]),\n",
       " array([[4.21509616],\n",
       "        [2.77011339]]),\n",
       " array([[4.21509616],\n",
       "        [2.77011339]]),\n",
       " array([[4.21509616],\n",
       "        [2.77011339]]),\n",
       " array([[4.21509616],\n",
       "        [2.77011339]]),\n",
       " array([[4.21509616],\n",
       "        [2.77011339]]),\n",
       " array([[4.21509616],\n",
       "        [2.77011339]]),\n",
       " array([[4.21509616],\n",
       "        [2.77011339]]),\n",
       " array([[4.21509616],\n",
       "        [2.77011339]]),\n",
       " array([[4.21509616],\n",
       "        [2.77011339]]),\n",
       " array([[4.21509616],\n",
       "        [2.77011339]]),\n",
       " array([[4.21509616],\n",
       "        [2.77011339]]),\n",
       " array([[4.21509616],\n",
       "        [2.77011339]]),\n",
       " array([[4.21509616],\n",
       "        [2.77011339]]),\n",
       " array([[4.21509616],\n",
       "        [2.77011339]]),\n",
       " array([[4.21509616],\n",
       "        [2.77011339]]),\n",
       " array([[4.21509616],\n",
       "        [2.77011339]]),\n",
       " array([[4.21509616],\n",
       "        [2.77011339]]),\n",
       " array([[4.21509616],\n",
       "        [2.77011339]]),\n",
       " array([[4.21509616],\n",
       "        [2.77011339]]),\n",
       " array([[4.21509616],\n",
       "        [2.77011339]]),\n",
       " array([[4.21509616],\n",
       "        [2.77011339]]),\n",
       " array([[4.21509616],\n",
       "        [2.77011339]]),\n",
       " array([[4.21509616],\n",
       "        [2.77011339]]),\n",
       " array([[4.21509616],\n",
       "        [2.77011339]]),\n",
       " array([[4.21509616],\n",
       "        [2.77011339]]),\n",
       " array([[4.21509616],\n",
       "        [2.77011339]]),\n",
       " array([[4.21509616],\n",
       "        [2.77011339]]),\n",
       " array([[4.21509616],\n",
       "        [2.77011339]]),\n",
       " array([[4.21509616],\n",
       "        [2.77011339]]),\n",
       " array([[4.21509616],\n",
       "        [2.77011339]]),\n",
       " array([[4.21509616],\n",
       "        [2.77011339]]),\n",
       " array([[4.21509616],\n",
       "        [2.77011339]]),\n",
       " array([[4.21509616],\n",
       "        [2.77011339]]),\n",
       " array([[4.21509616],\n",
       "        [2.77011339]]),\n",
       " array([[4.21509616],\n",
       "        [2.77011339]]),\n",
       " array([[4.21509616],\n",
       "        [2.77011339]]),\n",
       " array([[4.21509616],\n",
       "        [2.77011339]]),\n",
       " array([[4.21509616],\n",
       "        [2.77011339]]),\n",
       " array([[4.21509616],\n",
       "        [2.77011339]]),\n",
       " array([[4.21509616],\n",
       "        [2.77011339]]),\n",
       " array([[4.21509616],\n",
       "        [2.77011339]]),\n",
       " array([[4.21509616],\n",
       "        [2.77011339]]),\n",
       " array([[4.21509616],\n",
       "        [2.77011339]]),\n",
       " array([[4.21509616],\n",
       "        [2.77011339]]),\n",
       " array([[4.21509616],\n",
       "        [2.77011339]]),\n",
       " array([[4.21509616],\n",
       "        [2.77011339]]),\n",
       " array([[4.21509616],\n",
       "        [2.77011339]]),\n",
       " array([[4.21509616],\n",
       "        [2.77011339]]),\n",
       " array([[4.21509616],\n",
       "        [2.77011339]]),\n",
       " array([[4.21509616],\n",
       "        [2.77011339]]),\n",
       " array([[4.21509616],\n",
       "        [2.77011339]]),\n",
       " array([[4.21509616],\n",
       "        [2.77011339]]),\n",
       " array([[4.21509616],\n",
       "        [2.77011339]]),\n",
       " array([[4.21509616],\n",
       "        [2.77011339]]),\n",
       " array([[4.21509616],\n",
       "        [2.77011339]]),\n",
       " array([[4.21509616],\n",
       "        [2.77011339]]),\n",
       " array([[4.21509616],\n",
       "        [2.77011339]]),\n",
       " array([[4.21509616],\n",
       "        [2.77011339]]),\n",
       " array([[4.21509616],\n",
       "        [2.77011339]]),\n",
       " array([[4.21509616],\n",
       "        [2.77011339]]),\n",
       " array([[4.21509616],\n",
       "        [2.77011339]]),\n",
       " array([[4.21509616],\n",
       "        [2.77011339]]),\n",
       " array([[4.21509616],\n",
       "        [2.77011339]]),\n",
       " array([[4.21509616],\n",
       "        [2.77011339]]),\n",
       " array([[4.21509616],\n",
       "        [2.77011339]]),\n",
       " array([[4.21509616],\n",
       "        [2.77011339]]),\n",
       " array([[4.21509616],\n",
       "        [2.77011339]]),\n",
       " array([[4.21509616],\n",
       "        [2.77011339]]),\n",
       " array([[4.21509616],\n",
       "        [2.77011339]]),\n",
       " array([[4.21509616],\n",
       "        [2.77011339]]),\n",
       " array([[4.21509616],\n",
       "        [2.77011339]]),\n",
       " array([[4.21509616],\n",
       "        [2.77011339]]),\n",
       " array([[4.21509616],\n",
       "        [2.77011339]]),\n",
       " array([[4.21509616],\n",
       "        [2.77011339]]),\n",
       " array([[4.21509616],\n",
       "        [2.77011339]]),\n",
       " array([[4.21509616],\n",
       "        [2.77011339]]),\n",
       " array([[4.21509616],\n",
       "        [2.77011339]]),\n",
       " array([[4.21509616],\n",
       "        [2.77011339]]),\n",
       " array([[4.21509616],\n",
       "        [2.77011339]]),\n",
       " array([[4.21509616],\n",
       "        [2.77011339]]),\n",
       " array([[4.21509616],\n",
       "        [2.77011339]]),\n",
       " array([[4.21509616],\n",
       "        [2.77011339]]),\n",
       " array([[4.21509616],\n",
       "        [2.77011339]]),\n",
       " array([[4.21509616],\n",
       "        [2.77011339]]),\n",
       " array([[4.21509616],\n",
       "        [2.77011339]]),\n",
       " array([[4.21509616],\n",
       "        [2.77011339]]),\n",
       " array([[4.21509616],\n",
       "        [2.77011339]]),\n",
       " array([[4.21509616],\n",
       "        [2.77011339]]),\n",
       " array([[4.21509616],\n",
       "        [2.77011339]]),\n",
       " array([[4.21509616],\n",
       "        [2.77011339]]),\n",
       " array([[4.21509616],\n",
       "        [2.77011339]]),\n",
       " array([[4.21509616],\n",
       "        [2.77011339]]),\n",
       " array([[4.21509616],\n",
       "        [2.77011339]]),\n",
       " array([[4.21509616],\n",
       "        [2.77011339]]),\n",
       " array([[4.21509616],\n",
       "        [2.77011339]]),\n",
       " array([[4.21509616],\n",
       "        [2.77011339]]),\n",
       " array([[4.21509616],\n",
       "        [2.77011339]]),\n",
       " array([[4.21509616],\n",
       "        [2.77011339]]),\n",
       " array([[4.21509616],\n",
       "        [2.77011339]]),\n",
       " array([[4.21509616],\n",
       "        [2.77011339]]),\n",
       " array([[4.21509616],\n",
       "        [2.77011339]]),\n",
       " array([[4.21509616],\n",
       "        [2.77011339]]),\n",
       " array([[4.21509616],\n",
       "        [2.77011339]]),\n",
       " array([[4.21509616],\n",
       "        [2.77011339]]),\n",
       " array([[4.21509616],\n",
       "        [2.77011339]]),\n",
       " array([[4.21509616],\n",
       "        [2.77011339]]),\n",
       " array([[4.21509616],\n",
       "        [2.77011339]]),\n",
       " array([[4.21509616],\n",
       "        [2.77011339]]),\n",
       " array([[4.21509616],\n",
       "        [2.77011339]]),\n",
       " array([[4.21509616],\n",
       "        [2.77011339]])]"
      ]
     },
     "execution_count": 21,
     "metadata": {},
     "output_type": "execute_result"
    }
   ],
   "source": [
    "theta_path_bgd # 점점 수렴한다."
   ]
  },
  {
   "cell_type": "markdown",
   "id": "98b3824b",
   "metadata": {},
   "source": [
    "#### 4.2.2 확률적 경사 하강법"
   ]
  },
  {
   "cell_type": "code",
   "execution_count": 22,
   "id": "14f21d75",
   "metadata": {},
   "outputs": [],
   "source": [
    "theta_path_sgd = []\n",
    "m = len(X_b)\n",
    "np.random.seed(42)"
   ]
  },
  {
   "cell_type": "code",
   "execution_count": 23,
   "id": "3751005e",
   "metadata": {},
   "outputs": [
    {
     "data": {
      "image/png": "[encoded data removed]",
      "text/plain": [
       "<Figure size 432x288 with 1 Axes>"
      ]
     },
     "metadata": {
      "needs_background": "light"
     },
     "output_type": "display_data"
    }
   ],
   "source": [
    "n_epochs = 50\n",
    "t0, t1 = 5, 50\n",
    "\n",
    "def learning_schedule(t):\n",
    "    return t0 / (t + t1)\n",
    "\n",
    "theta = np.random.randn(2,1)\n",
    "\n",
    "for epoch in range(n_epochs):\n",
    "    for i in range(m):\n",
    "        if epoch == 0 and i <20:\n",
    "            y_predict = X_new_b.dot(theta)\n",
    "            style = \"b-\" if i > 0 else \"r--\"\n",
    "            plt.plot(X_new, y_predict, style)\n",
    "        random_index = np.random.randint(m)\n",
    "        xi = X_b[random_index:random_index+1]\n",
    "        yi = y[random_index:random_index+1]\n",
    "        gradients = 2 * xi.T.dot(xi.dot(theta) - yi)\n",
    "        eta = learning_schedule(epoch * m + i)\n",
    "        theta = theta - eta * gradients\n",
    "        theta_path_sgd.append(theta)\n",
    "        \n",
    "plt.plot(X, y, \"b.\")                                 # not shown\n",
    "plt.xlabel(\"$x_1$\", fontsize=18)                     # not shown\n",
    "plt.ylabel(\"$y$\", rotation=0, fontsize=18)           # not shown\n",
    "plt.axis([0, 2, 0, 15])                              # not shown                                 # not shown\n",
    "plt.show()  "
   ]
  },
  {
   "cell_type": "code",
   "execution_count": 24,
   "id": "454556f7",
   "metadata": {},
   "outputs": [
    {
     "data": {
      "text/plain": [
       "SGDRegressor(alpha=0.0001, average=False, early_stopping=False, epsilon=0.1,\n",
       "             eta0=0.1, fit_intercept=True, l1_ratio=0.15,\n",
       "             learning_rate='invscaling', loss='squared_loss', max_iter=1000,\n",
       "             n_iter_no_change=5, penalty=None, power_t=0.25, random_state=None,\n",
       "             shuffle=True, tol=0.001, validation_fraction=0.1, verbose=0,\n",
       "             warm_start=False)"
      ]
     },
     "execution_count": 24,
     "metadata": {},
     "output_type": "execute_result"
    }
   ],
   "source": [
    "from sklearn.linear_model import SGDRegressor\n",
    "sgd_reg = SGDRegressor(max_iter=1000, tol = 1e-3, penalty = None, eta0=0.1)\n",
    "sgd_reg.fit(X, y.ravel())"
   ]
  },
  {
   "cell_type": "code",
   "execution_count": 25,
   "id": "32877649",
   "metadata": {},
   "outputs": [
    {
     "data": {
      "text/plain": [
       "(array([4.23868557]), array([2.82181634]))"
      ]
     },
     "execution_count": 25,
     "metadata": {},
     "output_type": "execute_result"
    }
   ],
   "source": [
    "sgd_reg.intercept_, sgd_reg.coef_"
   ]
  },
  {
   "cell_type": "markdown",
   "id": "8b3d1a10",
   "metadata": {},
   "source": [
    "#### 4.2.3 미니배치 경사 하강법"
   ]
  },
  {
   "cell_type": "code",
   "execution_count": 26,
   "id": "5db9fbc1",
   "metadata": {},
   "outputs": [],
   "source": [
    "theta_path_mgd = []\n",
    "\n",
    "n_iterations = 50\n",
    "minibatch_size = 20\n",
    "\n",
    "np.random.seed(42)\n",
    "theta = np.random.randn(2,1)\n",
    "\n",
    "t0, t1 = 200, 1000\n",
    "def learning_schedule(t):\n",
    "    return t0 / (t + t1)\n",
    "\n",
    "t = 0\n",
    "for epoch in range(n_iterations):\n",
    "    shuffied_indices = np.random.permutation(m)\n",
    "    X_b_shuffied = X_b[shuffied_indices]\n",
    "    y_shuffied = y[shuffied_indices]\n",
    "    for i in range(0, m, minibatch_size):\n",
    "        t += 1\n",
    "        xi = X_b_shuffied[i:i+minibatch_size]\n",
    "        yi = y_shuffied[i: i+minibatch_size]\n",
    "        gradients = 2/minibatch_size * xi.T.dot(xi.dot(theta) - yi)\n",
    "        eta = learning_schedule(t)\n",
    "        theta = theta - eta * gradients\n",
    "        theta_path_mgd.append(theta)"
   ]
  },
  {
   "cell_type": "code",
   "execution_count": 27,
   "id": "8f27aeaf",
   "metadata": {},
   "outputs": [
    {
     "data": {
      "text/plain": [
       "array([[4.25214635],\n",
       "       [2.7896408 ]])"
      ]
     },
     "execution_count": 27,
     "metadata": {},
     "output_type": "execute_result"
    }
   ],
   "source": [
    "theta"
   ]
  },
  {
   "cell_type": "code",
   "execution_count": 28,
   "id": "79522b7b",
   "metadata": {},
   "outputs": [],
   "source": [
    "theta_path_bgd = np.array(theta_path_bgd)\n",
    "theta_path_sgd = np.array(theta_path_sgd)\n",
    "theta_path_mgd = np.array(theta_path_mgd)"
   ]
  },
  {
   "cell_type": "code",
   "execution_count": 29,
   "id": "ce91285e",
   "metadata": {},
   "outputs": [
    {
     "data": {
      "image/png": "[encoded data removed]",
      "text/plain": [
       "<Figure size 504x288 with 1 Axes>"
      ]
     },
     "metadata": {
      "needs_background": "light"
     },
     "output_type": "display_data"
    }
   ],
   "source": [
    "plt.figure(figsize=(7,4))\n",
    "plt.plot(theta_path_sgd[:, 0], theta_path_sgd[:, 1], \"r-s\", linewidth=1, label=\"Stochastic\")\n",
    "plt.plot(theta_path_mgd[:, 0], theta_path_mgd[:, 1], \"g-+\", linewidth=2, label=\"Mini-batch\")\n",
    "plt.plot(theta_path_bgd[:, 0], theta_path_bgd[:, 1], \"b-o\", linewidth=3, label=\"Batch\")\n",
    "plt.legend(loc=\"upper left\", fontsize=16)\n",
    "plt.xlabel(r\"$\\theta_0$\", fontsize=20)\n",
    "plt.ylabel(r\"$\\theta_1$   \", fontsize=20, rotation=0)\n",
    "plt.axis([2.5, 4.5, 2.3, 3.9])\n",
    "plt.show()"
   ]
  },
  {
   "cell_type": "markdown",
   "id": "577a01ce",
   "metadata": {},
   "source": [
    "### 4.3 다항 회귀"
   ]
  },
  {
   "cell_type": "code",
   "execution_count": 30,
   "id": "6bbc5cce",
   "metadata": {},
   "outputs": [],
   "source": [
    "m = 100\n",
    "X = 6 * np.random.rand(m, 1) - 3\n",
    "y = 0.5 * X**2 + X + 2 + np.random.randn(m,1)"
   ]
  },
  {
   "cell_type": "code",
   "execution_count": 31,
   "id": "3d676a12",
   "metadata": {},
   "outputs": [
    {
     "data": {
      "image/png": "[encoded data removed]",
      "text/plain": [
       "<Figure size 432x288 with 1 Axes>"
      ]
     },
     "metadata": {
      "needs_background": "light"
     },
     "output_type": "display_data"
    }
   ],
   "source": [
    "plt.plot(X, y, \"b.\")\n",
    "plt.xlabel(\"$x_1$\", fontsize=18)\n",
    "plt.ylabel(\"$y$\", rotation=0, fontsize=18)\n",
    "plt.axis([-3, 3, 0, 10])\n",
    "plt.show()"
   ]
  },
  {
   "cell_type": "code",
   "execution_count": 32,
   "id": "abce1dfc",
   "metadata": {},
   "outputs": [
    {
     "data": {
      "text/plain": [
       "array([2.38942838])"
      ]
     },
     "execution_count": 32,
     "metadata": {},
     "output_type": "execute_result"
    }
   ],
   "source": [
    "from sklearn.preprocessing import PolynomialFeatures\n",
    "poly_features = PolynomialFeatures(degree=2, include_bias=False)\n",
    "X_poly = poly_features.fit_transform(X)\n",
    "X[0]"
   ]
  },
  {
   "cell_type": "code",
   "execution_count": 33,
   "id": "3381ac96",
   "metadata": {},
   "outputs": [
    {
     "data": {
      "text/plain": [
       "array([2.38942838, 5.709368  ])"
      ]
     },
     "execution_count": 33,
     "metadata": {},
     "output_type": "execute_result"
    }
   ],
   "source": [
    "X_poly[0]"
   ]
  },
  {
   "cell_type": "code",
   "execution_count": 34,
   "id": "0c8f2c5b",
   "metadata": {},
   "outputs": [
    {
     "data": {
      "text/plain": [
       "(array([1.9735233]), array([[0.95038538, 0.52577032]]))"
      ]
     },
     "execution_count": 34,
     "metadata": {},
     "output_type": "execute_result"
    }
   ],
   "source": [
    "lin_reg = LinearRegression()\n",
    "lin_reg.fit(X_poly, y)\n",
    "lin_reg.intercept_, lin_reg.coef_"
   ]
  },
  {
   "cell_type": "code",
   "execution_count": 35,
   "id": "f01dd802",
   "metadata": {},
   "outputs": [
    {
     "data": {
      "image/png": "[encoded data removed]",
      "text/plain": [
       "<Figure size 432x288 with 1 Axes>"
      ]
     },
     "metadata": {
      "needs_background": "light"
     },
     "output_type": "display_data"
    }
   ],
   "source": [
    "X_new = np.linspace(-3, 3, 100).reshape(100,1)\n",
    "X_new_poly = poly_features.transform(X_new)\n",
    "y_new = lin_reg.predict(X_new_poly)\n",
    "plt.plot(X, y, \"b.\")\n",
    "plt.plot(X_new, y_new, \"r-\", linewidth=2, label=\"Predictions\")\n",
    "plt.xlabel(\"$x_1$\", fontsize=18)\n",
    "plt.ylabel(\"$y$\", rotation=0, fontsize=18)\n",
    "plt.legend(loc=\"upper left\", fontsize=14)\n",
    "plt.axis([-3, 3, 0, 10])\n",
    "plt.show()"
   ]
  },
  {
   "cell_type": "markdown",
   "id": "d2b37a9c",
   "metadata": {},
   "source": [
    "### 4.4 학습 곡선"
   ]
  },
  {
   "cell_type": "code",
   "execution_count": 36,
   "id": "2219ab7e",
   "metadata": {},
   "outputs": [
    {
     "data": {
      "image/png": "[encoded data removed]",
      "text/plain": [
       "<Figure size 432x288 with 1 Axes>"
      ]
     },
     "metadata": {
      "needs_background": "light"
     },
     "output_type": "display_data"
    }
   ],
   "source": [
    "from sklearn.preprocessing import StandardScaler\n",
    "from sklearn.pipeline import Pipeline\n",
    "\n",
    "for style, width, degree in ((\"g-\", 1, 300), (\"b--\", 2, 2), (\"r-+\", 2, 1)):\n",
    "    polybig_features = PolynomialFeatures(degree=degree, include_bias=False)\n",
    "    std_scaler = StandardScaler()\n",
    "    lin_reg = LinearRegression()\n",
    "    polynomial_regression = Pipeline([\n",
    "        (\"poly_features\", polybig_features),\n",
    "        (\"std_scaler\", std_scaler),\n",
    "        (\"lin_reg\", lin_reg),\n",
    "    ])\n",
    "    polynomial_regression.fit(X, y)\n",
    "    y_newbig = polynomial_regression.predict(X_new)\n",
    "    plt.plot(X_new, y_newbig, style, label=str(degree), linewidth=width)\n",
    "    \n",
    "plt.plot(X, y, \"b.\", linewidth=3)\n",
    "plt.legend(loc=\"upper left\")\n",
    "plt.xlabel(\"$x_1$\", fontsize=18)\n",
    "plt.ylabel(\"$y$\", rotation=0, fontsize=18)\n",
    "plt.axis([-3, 3, 0, 10])\n",
    "plt.show()"
   ]
  },
  {
   "cell_type": "code",
   "execution_count": 37,
   "id": "60d218ac",
   "metadata": {},
   "outputs": [],
   "source": [
    "# 학습곡선\n",
    "from sklearn.metrics import mean_squared_error\n",
    "from sklearn.model_selection import train_test_split\n",
    "\n",
    "def plot_learning_curves(model, X, y):\n",
    "    X_train, X_val, y_train, y_val = train_test_split(X, y, test_size=0.2, random_state=10)\n",
    "    train_errors, val_errors = [], []\n",
    "    for m in range(1, len(X_train) + 1):\n",
    "        model.fit(X_train[:m], y_train[:m])\n",
    "        y_train_predict = model.predict(X_train[:m])\n",
    "        y_val_predict = model.predict(X_val)\n",
    "        train_errors.append(mean_squared_error(y_train[:m], y_train_predict))\n",
    "        val_errors.append(mean_squared_error(y_val, y_val_predict))\n",
    "        \n",
    "    plt.plot(np.sqrt(train_errors), \"r-+\", linewidth=2, label=\"train\")\n",
    "    plt.plot(np.sqrt(val_errors), \"b-\", linewidth=3, label=\"val\")\n",
    "    plt.legend(loc=\"upper right\", fontsize=14)   # not shown in the book\n",
    "    plt.xlabel(\"Training set size\", fontsize=14) # not shown\n",
    "    plt.ylabel(\"RMSE\", fontsize=14)"
   ]
  },
  {
   "cell_type": "code",
   "execution_count": 38,
   "id": "48b6a574",
   "metadata": {},
   "outputs": [
    {
     "data": {
      "image/png": "[encoded data removed]",
      "text/plain": [
       "<Figure size 432x288 with 1 Axes>"
      ]
     },
     "metadata": {
      "needs_background": "light"
     },
     "output_type": "display_data"
    }
   ],
   "source": [
    "lin_reg = LinearRegression()\n",
    "plot_learning_curves(lin_reg, X, y)\n",
    "plt.axis([0, 80, 0, 3])\n",
    "plt.show()"
   ]
  },
  {
   "cell_type": "code",
   "execution_count": 39,
   "id": "ce883fdb",
   "metadata": {},
   "outputs": [
    {
     "data": {
      "image/png": "[encoded data removed]",
      "text/plain": [
       "<Figure size 432x288 with 1 Axes>"
      ]
     },
     "metadata": {
      "needs_background": "light"
     },
     "output_type": "display_data"
    }
   ],
   "source": [
    "from sklearn.pipeline import Pipeline\n",
    "\n",
    "polynomial_regression = Pipeline([\n",
    "        (\"poly_features\", PolynomialFeatures(degree=10, include_bias=False)),\n",
    "        (\"lin_reg\", LinearRegression()),\n",
    "    ])\n",
    "\n",
    "plot_learning_curves(polynomial_regression, X, y)\n",
    "plt.axis([0, 80, 0, 3])           # not shown\n",
    "plt.show()                        # not shown"
   ]
  },
  {
   "cell_type": "code",
   "execution_count": 40,
   "id": "605fc978",
   "metadata": {},
   "outputs": [
    {
     "data": {
      "image/png": "[encoded data removed]",
      "text/plain": [
       "<Figure size 432x288 with 1 Axes>"
      ]
     },
     "metadata": {
      "needs_background": "light"
     },
     "output_type": "display_data"
    }
   ],
   "source": [
    "from sklearn.pipeline import Pipeline\n",
    "\n",
    "polynomial_regression = Pipeline([\n",
    "        (\"poly_features\", PolynomialFeatures(degree=2, include_bias=False)),\n",
    "        (\"lin_reg\", LinearRegression()),\n",
    "    ])\n",
    "\n",
    "plot_learning_curves(polynomial_regression, X, y)\n",
    "plt.axis([0, 80, 0, 3])           # not shown\n",
    "plt.show()                        # not shown"
   ]
  },
  {
   "cell_type": "markdown",
   "id": "68d4b91b",
   "metadata": {},
   "source": [
    "### 4.5 규제가 있는 선형 모델"
   ]
  },
  {
   "cell_type": "markdown",
   "id": "55732eb9",
   "metadata": {},
   "source": [
    "#### 4.5.1 릿지 회귀"
   ]
  },
  {
   "cell_type": "code",
   "execution_count": 41,
   "id": "bc6914d5",
   "metadata": {},
   "outputs": [],
   "source": [
    "np.random.seed(42)\n",
    "m = 20\n",
    "X = 3 * np.random.rand(m, 1)\n",
    "y = 1 + 0.5 * X + np.random.randn(m,1) / 1.5\n",
    "X_new = np.linspace(0,3,100).reshape(100,1)"
   ]
  },
  {
   "cell_type": "code",
   "execution_count": 42,
   "id": "f2ef9089",
   "metadata": {},
   "outputs": [
    {
     "data": {
      "text/plain": [
       "array([[1.55071465]])"
      ]
     },
     "execution_count": 42,
     "metadata": {},
     "output_type": "execute_result"
    }
   ],
   "source": [
    "# 정규방정식\n",
    "from sklearn.linear_model import Ridge\n",
    "ridge_reg = Ridge(alpha=1, solver=\"cholesky\", random_state=42)\n",
    "ridge_reg.fit(X, y)\n",
    "ridge_reg.predict([[1.5]])"
   ]
  },
  {
   "cell_type": "code",
   "execution_count": 43,
   "id": "5ae84d93",
   "metadata": {},
   "outputs": [
    {
     "data": {
      "text/plain": [
       "array([[1.5507201]])"
      ]
     },
     "execution_count": 43,
     "metadata": {},
     "output_type": "execute_result"
    }
   ],
   "source": [
    "# 경사하강법\n",
    "from sklearn.linear_model import Ridge\n",
    "ridge_reg = Ridge(alpha=1, solver=\"sag\", random_state=42)\n",
    "ridge_reg.fit(X, y)\n",
    "ridge_reg.predict([[1.5]])"
   ]
  },
  {
   "cell_type": "code",
   "execution_count": 44,
   "id": "15db6650",
   "metadata": {},
   "outputs": [
    {
     "data": {
      "image/png": "[encoded data removed]",
      "text/plain": [
       "<Figure size 576x288 with 2 Axes>"
      ]
     },
     "metadata": {
      "needs_background": "light"
     },
     "output_type": "display_data"
    }
   ],
   "source": [
    "from sklearn.linear_model import Ridge\n",
    "\n",
    "def plot_model(model_class, polynomial, alphas, **model_kargs):\n",
    "    for alpha, style in zip(alphas, (\"b-\", \"g--\", \"r:\")):\n",
    "        model = model_class(alpha, **model_kargs) if alpha > 0 else LinearRegression()\n",
    "        if polynomial:\n",
    "            model = Pipeline([\n",
    "                (\"poly_features\", PolynomialFeatures(degree=10, include_bias=False)),\n",
    "                (\"std_scaler\", StandardScaler()),\n",
    "                (\"regul_reg\", model),\n",
    "            ])\n",
    "        model.fit(X, y)\n",
    "        y_new_regul = model.predict(X_new)\n",
    "        lw = 2 if alpha > 0 else 1\n",
    "        plt.plot(X_new, y_new_regul, style, linewidth=lw, label=r\"$\\alpha = {}$\".format(alpha))\n",
    "        plt.plot(X, y, \"b.\", linewidth=3)\n",
    "        plt.legend(loc=\"upper left\", fontsize=15)\n",
    "        plt.xlabel(\"$x_1$\", fontsize=18)\n",
    "        plt.axis([0,3,0,4])\n",
    "        \n",
    "plt.figure(figsize=(8,4))\n",
    "plt.subplot(121)\n",
    "plot_model(Ridge, polynomial=False, alphas=(0, 10, 100), random_state=42)\n",
    "plt.ylabel(\"$y$\", rotation=0, fontsize=18)\n",
    "plt.subplot(122)\n",
    "plot_model(Ridge, polynomial=True, alphas=(0, 10**-5, 1), random_state=42)\n",
    "\n",
    "plt.show()"
   ]
  },
  {
   "cell_type": "code",
   "execution_count": 45,
   "id": "783ce384",
   "metadata": {},
   "outputs": [
    {
     "data": {
      "text/plain": [
       "array([1.47012588])"
      ]
     },
     "execution_count": 45,
     "metadata": {},
     "output_type": "execute_result"
    }
   ],
   "source": [
    "sgd_reg = SGDRegressor(penalty=\"l2\", max_iter=1000, tol=1e-3, random_state=42)\n",
    "sgd_reg.fit(X, y.ravel())\n",
    "sgd_reg.predict([[1.5]])"
   ]
  },
  {
   "cell_type": "markdown",
   "id": "73dbf4a4",
   "metadata": {},
   "source": [
    "#### 4.5.2 라쏘 회귀"
   ]
  },
  {
   "cell_type": "code",
   "execution_count": 46,
   "id": "05468870",
   "metadata": {},
   "outputs": [
    {
     "name": "stderr",
     "output_type": "stream",
     "text": [
      "C:\\Users\\82104\\anaconda3\\lib\\site-packages\\sklearn\\linear_model\\_coordinate_descent.py:474: ConvergenceWarning: Objective did not converge. You might want to increase the number of iterations. Duality gap: 2.802867703827432, tolerance: 0.0009294783355207351\n",
      "  model = cd_fast.enet_coordinate_descent(\n"
     ]
    },
    {
     "data": {
      "image/png": "[encoded data removed]",
      "text/plain": [
       "<Figure size 576x288 with 2 Axes>"
      ]
     },
     "metadata": {
      "needs_background": "light"
     },
     "output_type": "display_data"
    }
   ],
   "source": [
    "from sklearn.linear_model import Lasso\n",
    "\n",
    "plt.figure(figsize=(8,4))\n",
    "plt.subplot(121)\n",
    "plot_model(Lasso, polynomial=False, alphas=(0, 0.1, 1), random_state=42)\n",
    "plt.ylabel(\"$y$\", rotation=0, fontsize=18)\n",
    "plt.subplot(122)\n",
    "plot_model(Lasso, polynomial=True, alphas=(0, 10**-7, 1), random_state=42)\n",
    "\n",
    "plt.show()"
   ]
  },
  {
   "cell_type": "code",
   "execution_count": 47,
   "id": "d00d533d",
   "metadata": {},
   "outputs": [
    {
     "data": {
      "text/plain": [
       "array([1.53788174])"
      ]
     },
     "execution_count": 47,
     "metadata": {},
     "output_type": "execute_result"
    }
   ],
   "source": [
    "from sklearn.linear_model import Lasso\n",
    "lasso_reg = Lasso(alpha=0.1)\n",
    "lasso_reg.fit(X, y)\n",
    "lasso_reg.predict([[1.5]])"
   ]
  },
  {
   "cell_type": "markdown",
   "id": "c18835d8",
   "metadata": {},
   "source": [
    "#### 4.5.3 엘라스틱넷"
   ]
  },
  {
   "cell_type": "code",
   "execution_count": 48,
   "id": "ab354db1",
   "metadata": {},
   "outputs": [
    {
     "data": {
      "text/plain": [
       "array([1.54333232])"
      ]
     },
     "execution_count": 48,
     "metadata": {},
     "output_type": "execute_result"
    }
   ],
   "source": [
    "from sklearn.linear_model import ElasticNet\n",
    "elastic_net = ElasticNet(alpha=0.1, l1_ratio=0.5, random_state=42)\n",
    "elastic_net.fit(X, y)\n",
    "elastic_net.predict([[1.5]])"
   ]
  },
  {
   "cell_type": "markdown",
   "id": "ab443ce5",
   "metadata": {},
   "source": [
    "#### 4.5.4 조기 종료"
   ]
  },
  {
   "cell_type": "code",
   "execution_count": 49,
   "id": "5a395607",
   "metadata": {},
   "outputs": [],
   "source": [
    "np.random.seed(42)\n",
    "m = 100\n",
    "X = 6 * np.random.rand(m, 1) - 3\n",
    "y = 2 + X + 0.5 * X**2 + np.random.randn(m,1)\n",
    "\n",
    "X_train, X_val, y_train, y_val = train_test_split(X[:50], y[:50].ravel(), test_size=0.5, random_state=10)"
   ]
  },
  {
   "cell_type": "code",
   "execution_count": 50,
   "id": "aacaa51c",
   "metadata": {},
   "outputs": [],
   "source": [
    "from copy import deepcopy\n",
    "\n",
    "poly_scaler = Pipeline([\n",
    "    (\"poly_features\", PolynomialFeatures(degree=90, include_bias=False)),\n",
    "    (\"std_scaler\", StandardScaler())\n",
    "])\n",
    "\n",
    "X_train_poly_scaled = poly_scaler.fit_transform(X_train)\n",
    "X_val_poly_scaled = poly_scaler.transform(X_val)\n",
    "\n",
    "# warm_start = True : fit() 메서드가 호출될 때 처음부터 다시 시작하지 않고\n",
    "#                     이전 모델 파라미터에서 훈련을 이어감\n",
    "sgd_reg = SGDRegressor(max_iter=1, tol=-np.infty, warm_start=True, penalty=None,\n",
    "                      learning_rate=\"constant\", eta0 = 0.0005, random_state=42)\n",
    "\n",
    "minimum_val_error = float(\"inf\")\n",
    "best_epoch = None\n",
    "best_model = None\n",
    "for epoch in range(1000):\n",
    "    sgd_reg.fit(X_train_poly_scaled, y_train)\n",
    "    y_val_predict = sgd_reg.predict(X_val_poly_scaled)\n",
    "    val_error = mean_squared_error(y_val, y_val_predict)\n",
    "    if val_error < minimum_val_error:\n",
    "        minimum_val_error = val_error\n",
    "        best_epoch = epoch\n",
    "        best_model = deepcopy(sgd_reg)"
   ]
  },
  {
   "cell_type": "code",
   "execution_count": 51,
   "id": "ebd3c348",
   "metadata": {},
   "outputs": [
    {
     "data": {
      "text/plain": [
       "1.3513110512453865"
      ]
     },
     "execution_count": 51,
     "metadata": {},
     "output_type": "execute_result"
    }
   ],
   "source": [
    "minimum_val_error"
   ]
  },
  {
   "cell_type": "code",
   "execution_count": 52,
   "id": "1bb9f6eb",
   "metadata": {},
   "outputs": [
    {
     "data": {
      "text/plain": [
       "239"
      ]
     },
     "execution_count": 52,
     "metadata": {},
     "output_type": "execute_result"
    }
   ],
   "source": [
    "best_epoch"
   ]
  },
  {
   "cell_type": "code",
   "execution_count": 53,
   "id": "93501589",
   "metadata": {},
   "outputs": [
    {
     "data": {
      "text/plain": [
       "SGDRegressor(alpha=0.0001, average=False, early_stopping=False, epsilon=0.1,\n",
       "             eta0=0.0005, fit_intercept=True, l1_ratio=0.15,\n",
       "             learning_rate='constant', loss='squared_loss', max_iter=1,\n",
       "             n_iter_no_change=5, penalty=None, power_t=0.25, random_state=42,\n",
       "             shuffle=True, tol=-inf, validation_fraction=0.1, verbose=0,\n",
       "             warm_start=True)"
      ]
     },
     "execution_count": 53,
     "metadata": {},
     "output_type": "execute_result"
    }
   ],
   "source": [
    "best_model"
   ]
  },
  {
   "cell_type": "code",
   "execution_count": 54,
   "id": "477f6959",
   "metadata": {},
   "outputs": [
    {
     "data": {
      "image/png": "[encoded data removed]",
      "text/plain": [
       "<Figure size 432x288 with 1 Axes>"
      ]
     },
     "metadata": {
      "needs_background": "light"
     },
     "output_type": "display_data"
    }
   ],
   "source": [
    "sgd_reg = SGDRegressor(max_iter=1, tol=-np.infty, warm_start=True,\n",
    "                       penalty=None, learning_rate=\"constant\", eta0=0.0005, random_state=42)\n",
    "\n",
    "n_epochs = 500\n",
    "train_errors, val_errors = [], []\n",
    "for epoch in range(n_epochs):\n",
    "    sgd_reg.fit(X_train_poly_scaled, y_train)\n",
    "    y_train_predict = sgd_reg.predict(X_train_poly_scaled)\n",
    "    y_val_predict = sgd_reg.predict(X_val_poly_scaled)\n",
    "    train_errors.append(mean_squared_error(y_train, y_train_predict))\n",
    "    val_errors.append(mean_squared_error(y_val, y_val_predict))\n",
    "\n",
    "best_epoch = np.argmin(val_errors)\n",
    "best_val_rmse = np.sqrt(val_errors[best_epoch])\n",
    "\n",
    "plt.annotate('Best model',\n",
    "             xy=(best_epoch, best_val_rmse),\n",
    "             xytext=(best_epoch, best_val_rmse + 1),\n",
    "             ha=\"center\",\n",
    "             arrowprops=dict(facecolor='black', shrink=0.05),\n",
    "             fontsize=16,\n",
    "            )\n",
    "\n",
    "best_val_rmse -= 0.03  # just to make the graph look better\n",
    "plt.plot([0, n_epochs], [best_val_rmse, best_val_rmse], \"k:\", linewidth=2)\n",
    "plt.plot(np.sqrt(val_errors), \"b-\", linewidth=3, label=\"Validation set\")\n",
    "plt.plot(np.sqrt(train_errors), \"r--\", linewidth=2, label=\"Training set\")\n",
    "plt.legend(loc=\"upper right\", fontsize=14)\n",
    "plt.xlabel(\"Epoch\", fontsize=14)\n",
    "plt.ylabel(\"RMSE\", fontsize=14)\n",
    "plt.show()"
   ]
  },
  {
   "cell_type": "markdown",
   "id": "dfacc951",
   "metadata": {},
   "source": [
    "### 4.6 로지스틱 회귀"
   ]
  },
  {
   "cell_type": "markdown",
   "id": "0678660d",
   "metadata": {},
   "source": [
    "#### 4.6.1 확률 추정"
   ]
  },
  {
   "cell_type": "markdown",
   "id": "0024809e",
   "metadata": {},
   "source": [
    "#### 4.6.2 훈련과 비용 함수"
   ]
  },
  {
   "cell_type": "markdown",
   "id": "7358e6d3",
   "metadata": {},
   "source": [
    "#### 4.6.3 결정 경계"
   ]
  },
  {
   "cell_type": "code",
   "execution_count": 55,
   "id": "03d933f7",
   "metadata": {},
   "outputs": [
    {
     "data": {
      "text/plain": [
       "['data', 'target', 'target_names', 'DESCR', 'feature_names', 'filename']"
      ]
     },
     "execution_count": 55,
     "metadata": {},
     "output_type": "execute_result"
    }
   ],
   "source": [
    "from sklearn import datasets\n",
    "iris = datasets.load_iris()\n",
    "list(iris.keys())"
   ]
  },
  {
   "cell_type": "code",
   "execution_count": 56,
   "id": "1ba11f2a",
   "metadata": {},
   "outputs": [
    {
     "name": "stdout",
     "output_type": "stream",
     "text": [
      ".. _iris_dataset:\n",
      "\n",
      "Iris plants dataset\n",
      "--------------------\n",
      "\n",
      "**Data Set Characteristics:**\n",
      "\n",
      "    :Number of Instances: 150 (50 in each of three classes)\n",
      "    :Number of Attributes: 4 numeric, predictive attributes and the class\n",
      "    :Attribute Information:\n",
      "        - sepal length in cm\n",
      "        - sepal width in cm\n",
      "        - petal length in cm\n",
      "        - petal width in cm\n",
      "        - class:\n",
      "                - Iris-Setosa\n",
      "                - Iris-Versicolour\n",
      "                - Iris-Virginica\n",
      "                \n",
      "    :Summary Statistics:\n",
      "\n",
      "    ============== ==== ==== ======= ===== ====================\n",
      "                    Min  Max   Mean    SD   Class Correlation\n",
      "    ============== ==== ==== ======= ===== ====================\n",
      "    sepal length:   4.3  7.9   5.84   0.83    0.7826\n",
      "    sepal width:    2.0  4.4   3.05   0.43   -0.4194\n",
      "    petal length:   1.0  6.9   3.76   1.76    0.9490  (high!)\n",
      "    petal width:    0.1  2.5   1.20   0.76    0.9565  (high!)\n",
      "    ============== ==== ==== ======= ===== ====================\n",
      "\n",
      "    :Missing Attribute Values: None\n",
      "    :Class Distribution: 33.3% for each of 3 classes.\n",
      "    :Creator: R.A. Fisher\n",
      "    :Donor: Michael Marshall (MARSHALL%PLU@io.arc.nasa.gov)\n",
      "    :Date: July, 1988\n",
      "\n",
      "The famous Iris database, first used by Sir R.A. Fisher. The dataset is taken\n",
      "from Fisher's paper. Note that it's the same as in R, but not as in the UCI\n",
      "Machine Learning Repository, which has two wrong data points.\n",
      "\n",
      "This is perhaps the best known database to be found in the\n",
      "pattern recognition literature.  Fisher's paper is a classic in the field and\n",
      "is referenced frequently to this day.  (See Duda & Hart, for example.)  The\n",
      "data set contains 3 classes of 50 instances each, where each class refers to a\n",
      "type of iris plant.  One class is linearly separable from the other 2; the\n",
      "latter are NOT linearly separable from each other.\n",
      "\n",
      ".. topic:: References\n",
      "\n",
      "   - Fisher, R.A. \"The use of multiple measurements in taxonomic problems\"\n",
      "     Annual Eugenics, 7, Part II, 179-188 (1936); also in \"Contributions to\n",
      "     Mathematical Statistics\" (John Wiley, NY, 1950).\n",
      "   - Duda, R.O., & Hart, P.E. (1973) Pattern Classification and Scene Analysis.\n",
      "     (Q327.D83) John Wiley & Sons.  ISBN 0-471-22361-1.  See page 218.\n",
      "   - Dasarathy, B.V. (1980) \"Nosing Around the Neighborhood: A New System\n",
      "     Structure and Classification Rule for Recognition in Partially Exposed\n",
      "     Environments\".  IEEE Transactions on Pattern Analysis and Machine\n",
      "     Intelligence, Vol. PAMI-2, No. 1, 67-71.\n",
      "   - Gates, G.W. (1972) \"The Reduced Nearest Neighbor Rule\".  IEEE Transactions\n",
      "     on Information Theory, May 1972, 431-433.\n",
      "   - See also: 1988 MLC Proceedings, 54-64.  Cheeseman et al\"s AUTOCLASS II\n",
      "     conceptual clustering system finds 3 classes in the data.\n",
      "   - Many, many more ...\n"
     ]
    }
   ],
   "source": [
    "print(iris.DESCR)"
   ]
  },
  {
   "cell_type": "code",
   "execution_count": 57,
   "id": "30205a29",
   "metadata": {},
   "outputs": [],
   "source": [
    "X = iris[\"data\"][:, 3:]\n",
    "y = (iris[\"target\"] == 2).astype(np.int)"
   ]
  },
  {
   "cell_type": "code",
   "execution_count": 58,
   "id": "cc4c3330",
   "metadata": {},
   "outputs": [
    {
     "data": {
      "text/plain": [
       "LogisticRegression(C=1.0, class_weight=None, dual=False, fit_intercept=True,\n",
       "                   intercept_scaling=1, l1_ratio=None, max_iter=100,\n",
       "                   multi_class='auto', n_jobs=None, penalty='l2',\n",
       "                   random_state=None, solver='lbfgs', tol=0.0001, verbose=0,\n",
       "                   warm_start=False)"
      ]
     },
     "execution_count": 58,
     "metadata": {},
     "output_type": "execute_result"
    }
   ],
   "source": [
    "from sklearn.linear_model import LogisticRegression\n",
    "\n",
    "log_reg = LogisticRegression()\n",
    "log_reg.fit(X, y)"
   ]
  },
  {
   "cell_type": "code",
   "execution_count": 59,
   "id": "de93a64a",
   "metadata": {},
   "outputs": [
    {
     "data": {
      "text/plain": [
       "[<matplotlib.lines.Line2D at 0x1ba8417b3a0>]"
      ]
     },
     "execution_count": 59,
     "metadata": {},
     "output_type": "execute_result"
    },
    {
     "data": {
      "image/png": "[encoded data removed]",
      "text/plain": [
       "<Figure size 432x288 with 1 Axes>"
      ]
     },
     "metadata": {
      "needs_background": "light"
     },
     "output_type": "display_data"
    }
   ],
   "source": [
    "X_new = np.linspace(0,3,1000).reshape(-1,1)\n",
    "y_proba = log_reg.predict_proba(X_new)\n",
    "plt.plot(X_new, y_proba[:,1], \"g-\", label=\"Iris virginica\")\n",
    "plt.plot(X_new, y_proba[:,0], \"b--\", label=\"Not Iris virginica\")"
   ]
  },
  {
   "cell_type": "code",
   "execution_count": 61,
   "id": "4c8c9630",
   "metadata": {},
   "outputs": [
    {
     "name": "stderr",
     "output_type": "stream",
     "text": [
      "C:\\Users\\82104\\anaconda3\\lib\\site-packages\\matplotlib\\patches.py:1338: VisibleDeprecationWarning: Creating an ndarray from ragged nested sequences (which is a list-or-tuple of lists-or-tuples-or ndarrays with different lengths or shapes) is deprecated. If you meant to do this, you must specify 'dtype=object' when creating the ndarray\n",
      "  verts = np.dot(coords, M) + (x + dx, y + dy)\n"
     ]
    },
    {
     "data": {
      "image/png": "[encoded data removed]",
      "text/plain": [
       "<Figure size 576x216 with 1 Axes>"
      ]
     },
     "metadata": {
      "needs_background": "light"
     },
     "output_type": "display_data"
    }
   ],
   "source": [
    "X_new = np.linspace(0, 3, 1000).reshape(-1, 1)\n",
    "y_proba = log_reg.predict_proba(X_new)\n",
    "decision_boundary = X_new[y_proba[:, 1] >= 0.5][0]\n",
    "\n",
    "plt.figure(figsize=(8, 3))\n",
    "plt.plot(X[y==0], y[y==0], \"bs\")\n",
    "plt.plot(X[y==1], y[y==1], \"g^\")\n",
    "plt.plot([decision_boundary, decision_boundary], [-1, 2], \"k:\", linewidth=2)\n",
    "plt.plot(X_new, y_proba[:, 1], \"g-\", linewidth=2, label=\"Iris virginica\")\n",
    "plt.plot(X_new, y_proba[:, 0], \"b--\", linewidth=2, label=\"Not Iris virginica\")\n",
    "plt.text(decision_boundary+0.02, 0.15, \"Decision  boundary\", fontsize=14, color=\"k\", ha=\"center\")\n",
    "plt.arrow(decision_boundary, 0.08, -0.3, 0, head_width=0.05, head_length=0.1, fc='b', ec='b')\n",
    "plt.arrow(decision_boundary, 0.92, 0.3, 0, head_width=0.05, head_length=0.1, fc='g', ec='g')\n",
    "plt.xlabel(\"Petal width (cm)\", fontsize=14)\n",
    "plt.ylabel(\"Probability\", fontsize=14)\n",
    "plt.legend(loc=\"center left\", fontsize=14)\n",
    "plt.axis([0, 3, -0.02, 1.02])\n",
    "plt.show()"
   ]
  },
  {
   "cell_type": "code",
   "execution_count": 62,
   "id": "db42b8d1",
   "metadata": {},
   "outputs": [
    {
     "data": {
      "text/plain": [
       "array([1.66066066])"
      ]
     },
     "execution_count": 62,
     "metadata": {},
     "output_type": "execute_result"
    }
   ],
   "source": [
    "decision_boundary"
   ]
  },
  {
   "cell_type": "code",
   "execution_count": 64,
   "id": "07fbb014",
   "metadata": {},
   "outputs": [
    {
     "data": {
      "text/plain": [
       "array([1, 0])"
      ]
     },
     "execution_count": 64,
     "metadata": {},
     "output_type": "execute_result"
    }
   ],
   "source": [
    "log_reg.predict([[1.7], [1.5]])"
   ]
  },
  {
   "cell_type": "code",
   "execution_count": 66,
   "id": "d9b20fde",
   "metadata": {},
   "outputs": [
    {
     "data": {
      "image/png": "[encoded data removed]",
      "text/plain": [
       "<Figure size 720x288 with 1 Axes>"
      ]
     },
     "metadata": {
      "needs_background": "light"
     },
     "output_type": "display_data"
    }
   ],
   "source": [
    "from sklearn.linear_model import LogisticRegression\n",
    "\n",
    "X = iris[\"data\"][:, (2, 3)]  # petal length, petal width\n",
    "y = (iris[\"target\"] == 2).astype(np.int)\n",
    "\n",
    "log_reg = LogisticRegression(solver=\"lbfgs\", C=10**10, random_state=42)\n",
    "log_reg.fit(X, y)\n",
    "\n",
    "x0, x1 = np.meshgrid(\n",
    "        np.linspace(2.9, 7, 500).reshape(-1, 1),\n",
    "        np.linspace(0.8, 2.7, 200).reshape(-1, 1),\n",
    "    )\n",
    "X_new = np.c_[x0.ravel(), x1.ravel()]\n",
    "\n",
    "y_proba = log_reg.predict_proba(X_new)\n",
    "\n",
    "plt.figure(figsize=(10, 4))\n",
    "plt.plot(X[y==0, 0], X[y==0, 1], \"bs\")\n",
    "plt.plot(X[y==1, 0], X[y==1, 1], \"g^\")\n",
    "\n",
    "zz = y_proba[:, 1].reshape(x0.shape)\n",
    "contour = plt.contour(x0, x1, zz, cmap=plt.cm.brg)\n",
    "\n",
    "\n",
    "left_right = np.array([2.9, 7])\n",
    "boundary = -(log_reg.coef_[0][0] * left_right + log_reg.intercept_[0]) / log_reg.coef_[0][1]\n",
    "\n",
    "plt.clabel(contour, inline=1, fontsize=12)\n",
    "plt.plot(left_right, boundary, \"k--\", linewidth=3)\n",
    "plt.text(3.5, 1.5, \"Not Iris virginica\", fontsize=14, color=\"b\", ha=\"center\")\n",
    "plt.text(6.5, 2.3, \"Iris virginica\", fontsize=14, color=\"g\", ha=\"center\")\n",
    "plt.xlabel(\"Petal length\", fontsize=14)\n",
    "plt.ylabel(\"Petal width\", fontsize=14)\n",
    "plt.axis([2.9, 7, 0.8, 2.7])\n",
    "plt.show()"
   ]
  },
  {
   "cell_type": "markdown",
   "id": "148d8f6f",
   "metadata": {},
   "source": [
    "#### 4.6.4 소프트맥스 회귀"
   ]
  },
  {
   "cell_type": "code",
   "execution_count": 67,
   "id": "a76bea12",
   "metadata": {},
   "outputs": [
    {
     "data": {
      "text/plain": [
       "LogisticRegression(C=10, class_weight=None, dual=False, fit_intercept=True,\n",
       "                   intercept_scaling=1, l1_ratio=None, max_iter=100,\n",
       "                   multi_class='multinomial', n_jobs=None, penalty='l2',\n",
       "                   random_state=42, solver='lbfgs', tol=0.0001, verbose=0,\n",
       "                   warm_start=False)"
      ]
     },
     "execution_count": 67,
     "metadata": {},
     "output_type": "execute_result"
    }
   ],
   "source": [
    "X = iris[\"data\"][:, (2, 3)]  # petal length, petal width\n",
    "y = iris[\"target\"]\n",
    "\n",
    "softmax_reg = LogisticRegression(multi_class=\"multinomial\",solver=\"lbfgs\", C=10, random_state=42)\n",
    "softmax_reg.fit(X, y)"
   ]
  },
  {
   "cell_type": "code",
   "execution_count": 69,
   "id": "258cdbf5",
   "metadata": {},
   "outputs": [
    {
     "data": {
      "image/png": "[encoded data removed]",
      "text/plain": [
       "<Figure size 720x288 with 1 Axes>"
      ]
     },
     "metadata": {
      "needs_background": "light"
     },
     "output_type": "display_data"
    }
   ],
   "source": [
    "x0, x1 = np.meshgrid(\n",
    "        np.linspace(0, 8, 500).reshape(-1, 1),\n",
    "        np.linspace(0, 3.5, 200).reshape(-1, 1),\n",
    "    )\n",
    "X_new = np.c_[x0.ravel(), x1.ravel()]\n",
    "\n",
    "\n",
    "y_proba = softmax_reg.predict_proba(X_new)\n",
    "y_predict = softmax_reg.predict(X_new)\n",
    "\n",
    "zz1 = y_proba[:, 1].reshape(x0.shape)\n",
    "zz = y_predict.reshape(x0.shape)\n",
    "\n",
    "plt.figure(figsize=(10, 4))\n",
    "plt.plot(X[y==2, 0], X[y==2, 1], \"g^\", label=\"Iris virginica\")\n",
    "plt.plot(X[y==1, 0], X[y==1, 1], \"bs\", label=\"Iris versicolor\")\n",
    "plt.plot(X[y==0, 0], X[y==0, 1], \"yo\", label=\"Iris setosa\")\n",
    "\n",
    "from matplotlib.colors import ListedColormap\n",
    "custom_cmap = ListedColormap(['#fafab0','#9898ff','#a0faa0'])\n",
    "\n",
    "plt.contourf(x0, x1, zz, cmap=custom_cmap)\n",
    "contour = plt.contour(x0, x1, zz1, cmap=plt.cm.brg)\n",
    "plt.clabel(contour, inline=1, fontsize=12)\n",
    "plt.xlabel(\"Petal length\", fontsize=14)\n",
    "plt.ylabel(\"Petal width\", fontsize=14)\n",
    "plt.legend(loc=\"center left\", fontsize=14)\n",
    "plt.axis([0, 7, 0, 3.5])\n",
    "plt.show()"
   ]
  },
  {
   "cell_type": "code",
   "execution_count": 70,
   "id": "de951d47",
   "metadata": {},
   "outputs": [
    {
     "data": {
      "text/plain": [
       "array([2])"
      ]
     },
     "execution_count": 70,
     "metadata": {},
     "output_type": "execute_result"
    }
   ],
   "source": [
    "softmax_reg.predict([[5, 2]])"
   ]
  },
  {
   "cell_type": "code",
   "execution_count": 71,
   "id": "26b684a9",
   "metadata": {},
   "outputs": [
    {
     "data": {
      "text/plain": [
       "array([[6.38014896e-07, 5.74929995e-02, 9.42506362e-01]])"
      ]
     },
     "execution_count": 71,
     "metadata": {},
     "output_type": "execute_result"
    }
   ],
   "source": [
    "softmax_reg.predict_proba([[5, 2]])"
   ]
  },
  {
   "cell_type": "markdown",
   "id": "ff1d27c4",
   "metadata": {},
   "source": [
    "## 연습문제 풀이"
   ]
  },
  {
   "cell_type": "markdown",
   "id": "1642620c",
   "metadata": {},
   "source": [
    "#### 1"
   ]
  },
  {
   "cell_type": "markdown",
   "id": "bf29eb4c",
   "metadata": {},
   "source": [
    "#### 12. 조기 종료를 사용한 배치 경사 하강법으로 소프트맥스 회귀를 구현해보세요(사이킷런 사용X)"
   ]
  },
  {
   "cell_type": "code",
   "execution_count": 73,
   "id": "fc1bcd53",
   "metadata": {},
   "outputs": [],
   "source": [
    "# 데이터 로딩\n",
    "X = iris[\"data\"][:, (2,3)]\n",
    "y = iris[\"target\"]"
   ]
  },
  {
   "cell_type": "code",
   "execution_count": 75,
   "id": "f66682eb",
   "metadata": {},
   "outputs": [],
   "source": [
    "X_with_bias = np.c_[np.ones([len(X), 1]), X] #bias 항 추가"
   ]
  },
  {
   "cell_type": "code",
   "execution_count": 76,
   "id": "895f9218",
   "metadata": {},
   "outputs": [],
   "source": [
    "np.random.seed(2042)"
   ]
  },
  {
   "cell_type": "code",
   "execution_count": 78,
   "id": "43ce2beb",
   "metadata": {},
   "outputs": [],
   "source": [
    "# train, valid, test set 분할\n",
    "test_ratio = 0.2\n",
    "validation_ratio = 0.2\n",
    "total_size = len(X_with_bias)\n",
    "\n",
    "test_size = int(total_size * test_ratio)\n",
    "validation_size = int(total_size * validation_ratio)\n",
    "train_size = total_size - test_size - validation_size\n",
    "\n",
    "rnd_indices = np.random.permutation(total_size)\n",
    "\n",
    "X_train = X_with_bias[rnd_indices[:train_size]]\n",
    "y_train = y[rnd_indices[:train_size]]\n",
    "\n",
    "X_valid = X_with_bias[rnd_indices[train_size: - test_size]]\n",
    "y_valid = y[rnd_indices[train_size: - test_size]]\n",
    "\n",
    "X_test = X_with_bias[rnd_indices[-test_size:]]\n",
    "y_test = y[rnd_indices[-test_size:]]"
   ]
  },
  {
   "cell_type": "code",
   "execution_count": 79,
   "id": "6f9ecdbf",
   "metadata": {},
   "outputs": [],
   "source": [
    "# 각각의 클래스에 속할 확률(0 or 1)을 one-hot vector로 표현\n",
    "def to_one_hot(y):\n",
    "    n_classes = y.max() + 1\n",
    "    m = len(y)\n",
    "    Y_one_hot = np.zeros((m, n_classes))\n",
    "    Y_one_hot[np.arange(m), y] = 1\n",
    "    return Y_one_hot"
   ]
  },
  {
   "cell_type": "code",
   "execution_count": 80,
   "id": "9a4a82b4",
   "metadata": {},
   "outputs": [
    {
     "data": {
      "text/plain": [
       "array([0, 1, 2, 1, 1, 0, 1, 1, 1, 0])"
      ]
     },
     "execution_count": 80,
     "metadata": {},
     "output_type": "execute_result"
    }
   ],
   "source": [
    "# 확인용\n",
    "y_train[:10]"
   ]
  },
  {
   "cell_type": "code",
   "execution_count": 81,
   "id": "c5755cca",
   "metadata": {},
   "outputs": [
    {
     "data": {
      "text/plain": [
       "array([[1., 0., 0.],\n",
       "       [0., 1., 0.],\n",
       "       [0., 0., 1.],\n",
       "       [0., 1., 0.],\n",
       "       [0., 1., 0.],\n",
       "       [1., 0., 0.],\n",
       "       [0., 1., 0.],\n",
       "       [0., 1., 0.],\n",
       "       [0., 1., 0.],\n",
       "       [1., 0., 0.]])"
      ]
     },
     "execution_count": 81,
     "metadata": {},
     "output_type": "execute_result"
    }
   ],
   "source": [
    "# 잘 된다\n",
    "to_one_hot(y_train[:10])"
   ]
  },
  {
   "cell_type": "code",
   "execution_count": 82,
   "id": "b4f3e4e1",
   "metadata": {},
   "outputs": [],
   "source": [
    "# train, valid, test에 대해 one hot vector 생성\n",
    "Y_train_one_hot = to_one_hot(y_train)\n",
    "Y_valid_one_hot = to_one_hot(y_valid)\n",
    "Y_test_one_hot = to_one_hot(y_test)"
   ]
  },
  {
   "cell_type": "code",
   "execution_count": 83,
   "id": "51da9f4c",
   "metadata": {},
   "outputs": [],
   "source": [
    "# softmax function\n",
    "def softmax(logits):\n",
    "    exps = np.exp(logits)\n",
    "    exp_sums = np.sum(exps, axis =1 , keepdims = True)\n",
    "    return exps / exp_sums"
   ]
  },
  {
   "cell_type": "code",
   "execution_count": 92,
   "id": "b2693f33",
   "metadata": {},
   "outputs": [],
   "source": [
    "n_inputs = X_train.shape[1]\n",
    "n_outputs = len(np.unique(y_train))"
   ]
  },
  {
   "cell_type": "markdown",
   "id": "6860195f",
   "metadata": {},
   "source": [
    "$J(\\mathbf{\\Theta})$ =\n",
    "\n",
    "$\\dfrac{1}{m}\\sum\\limits{i=1}^{m}\\sum\\limits{k=1}^{K}{y_k^{(i)}\\log\\left(\\hat{p}_k^{(i)}\\right)}$\n",
    "And the equation for the gradients:\n",
    "\n",
    "$\\nabla_{\\mathbf{\\theta}^{(k)}} \\, J(\\mathbf{\\Theta}) = \\dfrac{1}{m} \\sum\\limits_{i=1}^{m}{ \\left ( \\hat{p}^{(i)}_k - y_k^{(i)} \\right ) \\mathbf{x}^{(i)}}$\n",
    "\n",
    "Note that $\\log\\left(\\hat{p}_k^{(i)}\\right)$ may not be computable if $\\hat{p}_k^{(i)} = 0$. So we will add a tiny value $\\epsilon$ to $\\log\\left(\\hat{p}_k^{(i)}\\right)$ to avoid getting nan values."
   ]
  },
  {
   "cell_type": "code",
   "execution_count": 93,
   "id": "9aa5c0e7",
   "metadata": {},
   "outputs": [
    {
     "name": "stdout",
     "output_type": "stream",
     "text": [
      "0 5.201674541916857\n",
      "500 0.9289286770996209\n",
      "1000 0.730347338684699\n",
      "1500 0.6202267129428846\n",
      "2000 0.5534426037655518\n",
      "2500 0.508693580805662\n",
      "3000 0.47618116569391294\n",
      "3500 0.45107526294460976\n",
      "4000 0.43078988597097023\n",
      "4500 0.4138330487259931\n",
      "5000 0.39928755100143515\n"
     ]
    }
   ],
   "source": [
    "eta = 0.01\n",
    "n_iterations = 5001\n",
    "m = len(X_train)\n",
    "epsilon = 1e-7\n",
    "\n",
    "Theta = np.random.randn(n_inputs, n_outputs)\n",
    "\n",
    "for iteration in range(n_iterations):\n",
    "    logits = X_train.dot(Theta)\n",
    "    Y_proba = softmax(logits)\n",
    "    if iteration % 500 == 0:\n",
    "        loss = -np.mean(np.sum(Y_train_one_hot * np.log(Y_proba + epsilon), axis=1))\n",
    "        print(iteration, loss)\n",
    "    error = Y_proba - Y_train_one_hot\n",
    "    gradients = 1/m * X_train.T.dot(error)\n",
    "    Theta = Theta - eta * gradients"
   ]
  },
  {
   "cell_type": "code",
   "execution_count": 94,
   "id": "6557ec39",
   "metadata": {},
   "outputs": [
    {
     "data": {
      "text/plain": [
       "array([[ 3.79504378, -0.37193851, -2.15630014],\n",
       "       [-0.88543819,  0.67239095,  0.23760768],\n",
       "       [ 0.0372885 , -0.08986714,  2.40450287]])"
      ]
     },
     "execution_count": 94,
     "metadata": {},
     "output_type": "execute_result"
    }
   ],
   "source": [
    "Theta"
   ]
  },
  {
   "cell_type": "code",
   "execution_count": 96,
   "id": "de46bd35",
   "metadata": {},
   "outputs": [
    {
     "data": {
      "text/plain": [
       "0.9666666666666667"
      ]
     },
     "execution_count": 96,
     "metadata": {},
     "output_type": "execute_result"
    }
   ],
   "source": [
    "logits = X_valid.dot(Theta)\n",
    "Y_proba = softmax(logits)\n",
    "y_predict = np.argmax(Y_proba, axis=1)\n",
    "\n",
    "accuracy_score = np.mean(y_predict == y_valid)\n",
    "accuracy_score"
   ]
  },
  {
   "cell_type": "code",
   "execution_count": 97,
   "id": "d68f98bf",
   "metadata": {},
   "outputs": [
    {
     "name": "stdout",
     "output_type": "stream",
     "text": [
      "0 2.5303752786261997\n",
      "500 0.538189930925774\n",
      "1000 0.505097781680711\n",
      "1500 0.4952199435925545\n",
      "2000 0.49150964779644835\n",
      "2500 0.48998921001471946\n",
      "3000 0.4893382504771778\n",
      "3500 0.4890525077508239\n",
      "4000 0.4889251603273632\n",
      "4500 0.4888678575372378\n",
      "5000 0.488841911997125\n"
     ]
    }
   ],
   "source": [
    "# l2 규제\n",
    "eta = 0.1\n",
    "n_iterations = 5004\n",
    "m = len(X_train)\n",
    "epsilon = 1e-7\n",
    "alpha = 0.1\n",
    "\n",
    "Theta = np.random.randn(n_inputs, n_outputs)\n",
    "\n",
    "for iteration in range(n_iterations):\n",
    "    logits = X_train.dot(Theta)\n",
    "    Y_proba = softmax(logits)\n",
    "    if iteration % 500 ==0:\n",
    "        xentropy_loss = - np.mean(np.sum(Y_train_one_hot * np.log(Y_proba + epsilon), axis =1))\n",
    "        l2_loss = 1/2 * np.sum(np.square(Theta[1:]))\n",
    "        loss = xentropy_loss + alpha * l2_loss\n",
    "        print(iteration, loss)\n",
    "    error = Y_proba - Y_train_one_hot\n",
    "    gradients = 1/m * X_train.T.dot(error) + np.r_[np.zeros([1, n_outputs]), alpha * Theta[1:]]\n",
    "    Theta = Theta - eta * gradients"
   ]
  },
  {
   "cell_type": "code",
   "execution_count": 98,
   "id": "7cea8d0d",
   "metadata": {},
   "outputs": [
    {
     "data": {
      "text/plain": [
       "1.0"
      ]
     },
     "execution_count": 98,
     "metadata": {},
     "output_type": "execute_result"
    }
   ],
   "source": [
    "logits = X_valid.dot(Theta)\n",
    "Y_proba = softmax(logits)\n",
    "y_predict = np.argmax(Y_proba, axis=1)\n",
    "\n",
    "accuracy_score = np.mean(y_predict == y_valid)\n",
    "accuracy_score"
   ]
  },
  {
   "cell_type": "code",
   "execution_count": 100,
   "id": "2ed4d220",
   "metadata": {},
   "outputs": [
    {
     "name": "stdout",
     "output_type": "stream",
     "text": [
      "0 1.5014020680413604\n",
      "500 0.5661844756717177\n",
      "1000 0.5417041367159888\n",
      "1500 0.5350320938746151\n",
      "2000 0.5330450477912735\n",
      "2500 0.5325705051574501\n",
      "2695 0.532545814527234\n",
      "2696 0.532545814987182 early stopping!\n"
     ]
    }
   ],
   "source": [
    "# 조기종료\n",
    "eta = 0.1 \n",
    "n_iterations = 5001\n",
    "m = len(X_train)\n",
    "epsilon = 1e-7\n",
    "alpha = 0.1  # regularization hyperparameter\n",
    "best_loss = np.infty\n",
    "\n",
    "Theta = np.random.randn(n_inputs, n_outputs)\n",
    "\n",
    "for iteration in range(n_iterations):\n",
    "    logits = X_train.dot(Theta)\n",
    "    Y_proba = softmax(logits)\n",
    "    error = Y_proba - Y_train_one_hot\n",
    "    gradients = 1/m * X_train.T.dot(error) + np.r_[np.zeros([1, n_outputs]), alpha * Theta[1:]]\n",
    "    Theta = Theta - eta * gradients\n",
    "\n",
    "    logits = X_valid.dot(Theta)\n",
    "    Y_proba = softmax(logits)\n",
    "    xentropy_loss = -np.mean(np.sum(Y_valid_one_hot * np.log(Y_proba + epsilon), axis=1))\n",
    "    l2_loss = 1/2 * np.sum(np.square(Theta[1:]))\n",
    "    loss = xentropy_loss + alpha * l2_loss\n",
    "    if iteration % 500 == 0:\n",
    "        print(iteration, loss)\n",
    "    if loss < best_loss:\n",
    "        best_loss = loss\n",
    "    else:\n",
    "        print(iteration - 1, best_loss)\n",
    "        print(iteration, loss, \"early stopping!\")\n",
    "        break"
   ]
  },
  {
   "cell_type": "code",
   "execution_count": 101,
   "id": "3fb303a4",
   "metadata": {},
   "outputs": [
    {
     "data": {
      "text/plain": [
       "1.0"
      ]
     },
     "execution_count": 101,
     "metadata": {},
     "output_type": "execute_result"
    }
   ],
   "source": [
    "logits = X_valid.dot(Theta)\n",
    "Y_proba = softmax(logits)\n",
    "y_predict = np.argmax(Y_proba, axis=1)\n",
    "\n",
    "accuracy_score = np.mean(y_predict == y_valid)\n",
    "accuracy_score"
   ]
  },
  {
   "cell_type": "code",
   "execution_count": 102,
   "id": "60361b02",
   "metadata": {},
   "outputs": [
    {
     "data": {
      "image/png": "[encoded data removed]",
      "text/plain": [
       "<Figure size 720x288 with 1 Axes>"
      ]
     },
     "metadata": {
      "needs_background": "light"
     },
     "output_type": "display_data"
    }
   ],
   "source": [
    "x0, x1 = np.meshgrid(\n",
    "        np.linspace(0, 8, 500).reshape(-1, 1),\n",
    "        np.linspace(0, 3.5, 200).reshape(-1, 1),\n",
    "    )\n",
    "X_new = np.c_[x0.ravel(), x1.ravel()]\n",
    "X_new_with_bias = np.c_[np.ones([len(X_new), 1]), X_new]\n",
    "\n",
    "logits = X_new_with_bias.dot(Theta)\n",
    "Y_proba = softmax(logits)\n",
    "y_predict = np.argmax(Y_proba, axis=1)\n",
    "\n",
    "zz1 = Y_proba[:, 1].reshape(x0.shape)\n",
    "zz = y_predict.reshape(x0.shape)\n",
    "\n",
    "plt.figure(figsize=(10, 4))\n",
    "plt.plot(X[y==2, 0], X[y==2, 1], \"g^\", label=\"Iris virginica\")\n",
    "plt.plot(X[y==1, 0], X[y==1, 1], \"bs\", label=\"Iris versicolor\")\n",
    "plt.plot(X[y==0, 0], X[y==0, 1], \"yo\", label=\"Iris setosa\")\n",
    "\n",
    "from matplotlib.colors import ListedColormap\n",
    "custom_cmap = ListedColormap(['#fafab0','#9898ff','#a0faa0'])\n",
    "\n",
    "plt.contourf(x0, x1, zz, cmap=custom_cmap)\n",
    "contour = plt.contour(x0, x1, zz1, cmap=plt.cm.brg)\n",
    "plt.clabel(contour, inline=1, fontsize=12)\n",
    "plt.xlabel(\"Petal length\", fontsize=14)\n",
    "plt.ylabel(\"Petal width\", fontsize=14)\n",
    "plt.legend(loc=\"upper left\", fontsize=14)\n",
    "plt.axis([0, 7, 0, 3.5])\n",
    "plt.show()"
   ]
  },
  {
   "cell_type": "code",
   "execution_count": 104,
   "id": "edb35b8d",
   "metadata": {},
   "outputs": [
    {
     "data": {
      "text/plain": [
       "0.9333333333333333"
      ]
     },
     "execution_count": 104,
     "metadata": {},
     "output_type": "execute_result"
    }
   ],
   "source": [
    "# test-set\n",
    "logits = X_test.dot(Theta)\n",
    "Y_proba = softmax(logits)\n",
    "y_predict = np.argmax(Y_proba, axis=1)\n",
    "\n",
    "accuracy_score = np.mean(y_predict == y_test)\n",
    "accuracy_score"
   ]
  },
  {
   "cell_type": "code",
   "execution_count": null,
   "id": "60a9a40a",
   "metadata": {},
   "outputs": [],
   "source": []
  }
 ],
 "metadata": {
  "kernelspec": {
   "display_name": "Python 3",
   "language": "python",
   "name": "python3"
  },
  "language_info": {
   "codemirror_mode": {
    "name": "ipython",
    "version": 3
   },
   "file_extension": ".py",
   "mimetype": "text/x-python",
   "name": "python",
   "nbconvert_exporter": "python",
   "pygments_lexer": "ipython3",
   "version": "3.8.8"
  }
 },
 "nbformat": 4,
 "nbformat_minor": 5
}
